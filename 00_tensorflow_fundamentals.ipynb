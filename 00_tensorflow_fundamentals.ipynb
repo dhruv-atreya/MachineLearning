{
  "nbformat": 4,
  "nbformat_minor": 0,
  "metadata": {
    "colab": {
      "name": "00_tensorflow_fundamentals.ipynb",
      "provenance": [],
      "collapsed_sections": [],
      "toc_visible": true,
      "authorship_tag": "ABX9TyNhruzz68+3sfF4OQ+FRAMN",
      "include_colab_link": true
    },
    "kernelspec": {
      "name": "python3",
      "display_name": "Python 3"
    },
    "language_info": {
      "name": "python"
    }
  },
  "cells": [
    {
      "cell_type": "markdown",
      "metadata": {
        "id": "view-in-github",
        "colab_type": "text"
      },
      "source": [
        "<a href=\"https://colab.research.google.com/github/dhruv-ks/MachineLearning/blob/main/00_tensorflow_fundamentals.ipynb\" target=\"_parent\"><img src=\"https://colab.research.google.com/assets/colab-badge.svg\" alt=\"Open In Colab\"/></a>"
      ]
    },
    {
      "cell_type": "markdown",
      "metadata": {
        "id": "cfp0xoS2xpO7"
      },
      "source": [
        "#In this notebook we are going to learn the basics of tensorflow.\n",
        "More specifically , we are going to cover:\n",
        "* Introduction to tensors\n",
        "* Getting information from tensors\n",
        "* Manipulting tensors\n",
        "* Tensors & NumPy\n",
        "* Using @tf.function (a way to speed up your regular Python function)\n",
        "* Using GPUs with TEnsorFlow (or TPUs)"
      ]
    },
    {
      "cell_type": "markdown",
      "metadata": {
        "id": "IMI3qdRH0_sR"
      },
      "source": [
        "## Introduction to Tensors"
      ]
    },
    {
      "cell_type": "code",
      "metadata": {
        "colab": {
          "base_uri": "https://localhost:8080/"
        },
        "id": "CoW3jFpM2ADl",
        "outputId": "4c01c2aa-3897-45d0-8b14-6755fd84988c"
      },
      "source": [
        "# Import TensorFlow\n",
        "import tensorflow as tf\n",
        "print(tf.__version__)"
      ],
      "execution_count": 1,
      "outputs": [
        {
          "output_type": "stream",
          "text": [
            "2.4.1\n"
          ],
          "name": "stdout"
        }
      ]
    },
    {
      "cell_type": "code",
      "metadata": {
        "id": "suSgEWE72sR5",
        "colab": {
          "base_uri": "https://localhost:8080/"
        },
        "outputId": "e2268f8c-a9ae-44bd-ce20-96ff8c700d00"
      },
      "source": [
        "# Create tensors with tf.constant()\n",
        "scalar = tf.constant(7) # Creates a tensor from tensor-like object.\n",
        "scalar"
      ],
      "execution_count": 2,
      "outputs": [
        {
          "output_type": "execute_result",
          "data": {
            "text/plain": [
              "<tf.Tensor: shape=(), dtype=int32, numpy=7>"
            ]
          },
          "metadata": {
            "tags": []
          },
          "execution_count": 2
        }
      ]
    },
    {
      "cell_type": "code",
      "metadata": {
        "colab": {
          "base_uri": "https://localhost:8080/"
        },
        "id": "JS2Pkcxl4-4I",
        "outputId": "494377ea-7e50-41da-b466-172953d2eee6"
      },
      "source": [
        "# Check the number of dimensions of a tensor (ndim stands for number of dimensions)\n",
        "scalar.ndim"
      ],
      "execution_count": 3,
      "outputs": [
        {
          "output_type": "execute_result",
          "data": {
            "text/plain": [
              "0"
            ]
          },
          "metadata": {
            "tags": []
          },
          "execution_count": 3
        }
      ]
    },
    {
      "cell_type": "code",
      "metadata": {
        "colab": {
          "base_uri": "https://localhost:8080/"
        },
        "id": "lmtseAT85Tbn",
        "outputId": "a9402e24-e9d2-420f-9d11-98efbd96a623"
      },
      "source": [
        "# Create a vector\n",
        "vector = tf.constant([10,10])\n",
        "vector"
      ],
      "execution_count": 4,
      "outputs": [
        {
          "output_type": "execute_result",
          "data": {
            "text/plain": [
              "<tf.Tensor: shape=(2,), dtype=int32, numpy=array([10, 10], dtype=int32)>"
            ]
          },
          "metadata": {
            "tags": []
          },
          "execution_count": 4
        }
      ]
    },
    {
      "cell_type": "code",
      "metadata": {
        "colab": {
          "base_uri": "https://localhost:8080/"
        },
        "id": "SIUOMXpV5qXO",
        "outputId": "5e6ef1d2-a450-4fe6-e4df-a64af2a3d973"
      },
      "source": [
        "# Check dimension of vector.\n",
        "vector.ndim"
      ],
      "execution_count": 5,
      "outputs": [
        {
          "output_type": "execute_result",
          "data": {
            "text/plain": [
              "1"
            ]
          },
          "metadata": {
            "tags": []
          },
          "execution_count": 5
        }
      ]
    },
    {
      "cell_type": "code",
      "metadata": {
        "colab": {
          "base_uri": "https://localhost:8080/"
        },
        "id": "-ABaPHyh5vt1",
        "outputId": "bdc33a67-aa66-49e9-c10d-6f2077e00c7f"
      },
      "source": [
        "# Create a matrix.\n",
        "matrix = tf.constant([[10,7],\n",
        "                     [7,10]])\n",
        "matrix"
      ],
      "execution_count": 6,
      "outputs": [
        {
          "output_type": "execute_result",
          "data": {
            "text/plain": [
              "<tf.Tensor: shape=(2, 2), dtype=int32, numpy=\n",
              "array([[10,  7],\n",
              "       [ 7, 10]], dtype=int32)>"
            ]
          },
          "metadata": {
            "tags": []
          },
          "execution_count": 6
        }
      ]
    },
    {
      "cell_type": "code",
      "metadata": {
        "colab": {
          "base_uri": "https://localhost:8080/"
        },
        "id": "F7t612sy598h",
        "outputId": "43ebe03a-a2d5-4150-e9ab-fad28175b290"
      },
      "source": [
        "# Check dimension of vector\n",
        "matrix.ndim"
      ],
      "execution_count": 7,
      "outputs": [
        {
          "output_type": "execute_result",
          "data": {
            "text/plain": [
              "2"
            ]
          },
          "metadata": {
            "tags": []
          },
          "execution_count": 7
        }
      ]
    },
    {
      "cell_type": "code",
      "metadata": {
        "id": "HHGDC-ee6xn0",
        "colab": {
          "base_uri": "https://localhost:8080/"
        },
        "outputId": "1eecb363-25cc-4c3a-8d02-ef7fc0cba9e7"
      },
      "source": [
        "# Create another matrix.\n",
        "another_matrix = tf.constant([[10., 7.],\n",
        "                              [3., 2.],\n",
        "                              [8., 9.]], dtype = tf.float16) # specify the data type by dtype param\n",
        "another_matrix"
      ],
      "execution_count": 8,
      "outputs": [
        {
          "output_type": "execute_result",
          "data": {
            "text/plain": [
              "<tf.Tensor: shape=(3, 2), dtype=float16, numpy=\n",
              "array([[10.,  7.],\n",
              "       [ 3.,  2.],\n",
              "       [ 8.,  9.]], dtype=float16)>"
            ]
          },
          "metadata": {
            "tags": []
          },
          "execution_count": 8
        }
      ]
    },
    {
      "cell_type": "code",
      "metadata": {
        "colab": {
          "base_uri": "https://localhost:8080/"
        },
        "id": "mCNHUzQb24AE",
        "outputId": "3e4cb070-e10a-422b-9467-89d608d2093c"
      },
      "source": [
        "# No. of dimensions of another_matrix.\n",
        "another_matrix.ndim"
      ],
      "execution_count": 9,
      "outputs": [
        {
          "output_type": "execute_result",
          "data": {
            "text/plain": [
              "2"
            ]
          },
          "metadata": {
            "tags": []
          },
          "execution_count": 9
        }
      ]
    },
    {
      "cell_type": "code",
      "metadata": {
        "colab": {
          "base_uri": "https://localhost:8080/"
        },
        "id": "D156-Vzf3opJ",
        "outputId": "f6140c35-23a9-45f8-df3c-6e9a6a234ad9"
      },
      "source": [
        "# lets create a tensor.\n",
        "tensor = tf.constant([[[1,2,3],\n",
        "                       [4,5,6],\n",
        "                       [7,8,9]],\n",
        "                      [[10,11,12],\n",
        "                       [13,14,15],\n",
        "                       [16,17,18]],\n",
        "                      [[19,20,21],\n",
        "                       [22,23,24],\n",
        "                       [25,26,27]]])\n",
        "tensor"
      ],
      "execution_count": 10,
      "outputs": [
        {
          "output_type": "execute_result",
          "data": {
            "text/plain": [
              "<tf.Tensor: shape=(3, 3, 3), dtype=int32, numpy=\n",
              "array([[[ 1,  2,  3],\n",
              "        [ 4,  5,  6],\n",
              "        [ 7,  8,  9]],\n",
              "\n",
              "       [[10, 11, 12],\n",
              "        [13, 14, 15],\n",
              "        [16, 17, 18]],\n",
              "\n",
              "       [[19, 20, 21],\n",
              "        [22, 23, 24],\n",
              "        [25, 26, 27]]], dtype=int32)>"
            ]
          },
          "metadata": {
            "tags": []
          },
          "execution_count": 10
        }
      ]
    },
    {
      "cell_type": "code",
      "metadata": {
        "colab": {
          "base_uri": "https://localhost:8080/"
        },
        "id": "BiMF2NOH40pD",
        "outputId": "784ec10f-7d01-4bd7-81e0-236c33f44c11"
      },
      "source": [
        "# Dimension of tensor.\n",
        "tensor.ndim"
      ],
      "execution_count": 11,
      "outputs": [
        {
          "output_type": "execute_result",
          "data": {
            "text/plain": [
              "3"
            ]
          },
          "metadata": {
            "tags": []
          },
          "execution_count": 11
        }
      ]
    },
    {
      "cell_type": "markdown",
      "metadata": {
        "id": "B-y6c0Sz5YUP"
      },
      "source": [
        "### What we have created so far:\n",
        "* Scalar: a single number\n",
        "* Vector: a number with direction\n",
        "* Matrix: a 2-dimensional array of numbers\n",
        "* Tensor: an n-dimensional array of numbers"
      ]
    },
    {
      "cell_type": "markdown",
      "metadata": {
        "id": "iUKgR8sA6Xbq"
      },
      "source": [
        "### Creating Tensors with `tf.variable`"
      ]
    },
    {
      "cell_type": "code",
      "metadata": {
        "colab": {
          "base_uri": "https://localhost:8080/"
        },
        "id": "Qqc9ceW36Ur0",
        "outputId": "1c660620-4076-4b86-9c16-2747ef0cbfcc"
      },
      "source": [
        "# Create the same tensor with tf.variable() as above\n",
        "changeable_tensor = tf.Variable([10,7])\n",
        "unchangeable_tensor = tf.constant([10,7])\n",
        "changeable_tensor, unchangeable_tensor"
      ],
      "execution_count": 12,
      "outputs": [
        {
          "output_type": "execute_result",
          "data": {
            "text/plain": [
              "(<tf.Variable 'Variable:0' shape=(2,) dtype=int32, numpy=array([10,  7], dtype=int32)>,\n",
              " <tf.Tensor: shape=(2,), dtype=int32, numpy=array([10,  7], dtype=int32)>)"
            ]
          },
          "metadata": {
            "tags": []
          },
          "execution_count": 12
        }
      ]
    },
    {
      "cell_type": "code",
      "metadata": {
        "colab": {
          "base_uri": "https://localhost:8080/",
          "height": 209
        },
        "id": "VeylkDZH7O-t",
        "outputId": "155e4d7c-a2a6-497f-a9d3-92e2280c03ec"
      },
      "source": [
        "# Lets try change one of the elements in our changeable tensor\n",
        "changeable_tensor[0] = 7\n",
        "changeable_tensor"
      ],
      "execution_count": 14,
      "outputs": [
        {
          "output_type": "error",
          "ename": "TypeError",
          "evalue": "ignored",
          "traceback": [
            "\u001b[0;31m---------------------------------------------------------------------------\u001b[0m",
            "\u001b[0;31mTypeError\u001b[0m                                 Traceback (most recent call last)",
            "\u001b[0;32m<ipython-input-14-fd537a2b0f7a>\u001b[0m in \u001b[0;36m<module>\u001b[0;34m()\u001b[0m\n\u001b[1;32m      1\u001b[0m \u001b[0;31m# Lets try change one of the elements in our changeable tensor\u001b[0m\u001b[0;34m\u001b[0m\u001b[0;34m\u001b[0m\u001b[0;34m\u001b[0m\u001b[0m\n\u001b[0;32m----> 2\u001b[0;31m \u001b[0mchangeable_tensor\u001b[0m\u001b[0;34m[\u001b[0m\u001b[0;36m0\u001b[0m\u001b[0;34m]\u001b[0m \u001b[0;34m=\u001b[0m \u001b[0;36m7\u001b[0m\u001b[0;34m\u001b[0m\u001b[0;34m\u001b[0m\u001b[0m\n\u001b[0m\u001b[1;32m      3\u001b[0m \u001b[0mchangeable_tensor\u001b[0m\u001b[0;34m\u001b[0m\u001b[0;34m\u001b[0m\u001b[0m\n",
            "\u001b[0;31mTypeError\u001b[0m: 'ResourceVariable' object does not support item assignment"
          ]
        }
      ]
    },
    {
      "cell_type": "code",
      "metadata": {
        "colab": {
          "base_uri": "https://localhost:8080/"
        },
        "id": "1qq_L-qm763W",
        "outputId": "571264bd-231f-425a-d24d-43f4a542a72b"
      },
      "source": [
        "# How about we try .asign()\n",
        "changeable_tensor[0].assign(7)\n",
        "changeable_tensor"
      ],
      "execution_count": 15,
      "outputs": [
        {
          "output_type": "execute_result",
          "data": {
            "text/plain": [
              "<tf.Variable 'Variable:0' shape=(2,) dtype=int32, numpy=array([7, 7], dtype=int32)>"
            ]
          },
          "metadata": {
            "tags": []
          },
          "execution_count": 15
        }
      ]
    },
    {
      "cell_type": "code",
      "metadata": {
        "colab": {
          "base_uri": "https://localhost:8080/",
          "height": 191
        },
        "id": "kDfDZmPW8PV8",
        "outputId": "6d8df1c9-f7f7-402d-aeff-b774a43ba8ae"
      },
      "source": [
        "# Lets try change our a=unchangeable tensor\n",
        "unchangeable_tensor[0].assign(7)"
      ],
      "execution_count": 16,
      "outputs": [
        {
          "output_type": "error",
          "ename": "AttributeError",
          "evalue": "ignored",
          "traceback": [
            "\u001b[0;31m---------------------------------------------------------------------------\u001b[0m",
            "\u001b[0;31mAttributeError\u001b[0m                            Traceback (most recent call last)",
            "\u001b[0;32m<ipython-input-16-5a2fe50d99fd>\u001b[0m in \u001b[0;36m<module>\u001b[0;34m()\u001b[0m\n\u001b[1;32m      1\u001b[0m \u001b[0;31m# Lets try change our a=unchangeable tensor\u001b[0m\u001b[0;34m\u001b[0m\u001b[0;34m\u001b[0m\u001b[0;34m\u001b[0m\u001b[0m\n\u001b[0;32m----> 2\u001b[0;31m \u001b[0munchangeable_tensor\u001b[0m\u001b[0;34m[\u001b[0m\u001b[0;36m0\u001b[0m\u001b[0;34m]\u001b[0m\u001b[0;34m.\u001b[0m\u001b[0massign\u001b[0m\u001b[0;34m(\u001b[0m\u001b[0;36m7\u001b[0m\u001b[0;34m)\u001b[0m\u001b[0;34m\u001b[0m\u001b[0;34m\u001b[0m\u001b[0m\n\u001b[0m",
            "\u001b[0;31mAttributeError\u001b[0m: 'tensorflow.python.framework.ops.EagerTensor' object has no attribute 'assign'"
          ]
        }
      ]
    },
    {
      "cell_type": "markdown",
      "metadata": {
        "id": "b5J-0yTA8iV6"
      },
      "source": [
        "### Creating random tensors\n",
        "\n",
        "Random Tensors are rensors of some arbitary size which contain random numbers."
      ]
    },
    {
      "cell_type": "code",
      "metadata": {
        "colab": {
          "base_uri": "https://localhost:8080/"
        },
        "id": "RlQNj5qc9IlY",
        "outputId": "668b1ec4-26ce-4659-b11d-2e220191c614"
      },
      "source": [
        "# Create two random (but the same) tensors\n",
        "random_1 = tf.random.Generator.from_seed(7) # set seed for reproduciiblity\n",
        "random_1 = random_1.normal(shape=(3,2))\n",
        "random_2 = tf.random.Generator.from_seed(7)\n",
        "random_2 = random_2.normal(shape=(3,2))\n",
        "\n",
        "# Are these equal?\n",
        "random_1, random_2, random_1==random_2"
      ],
      "execution_count": 17,
      "outputs": [
        {
          "output_type": "execute_result",
          "data": {
            "text/plain": [
              "(<tf.Tensor: shape=(3, 2), dtype=float32, numpy=\n",
              " array([[-1.3240396 ,  0.28785667],\n",
              "        [-0.8757901 , -0.08857018],\n",
              "        [ 0.69211644,  0.84215707]], dtype=float32)>,\n",
              " <tf.Tensor: shape=(3, 2), dtype=float32, numpy=\n",
              " array([[-1.3240396 ,  0.28785667],\n",
              "        [-0.8757901 , -0.08857018],\n",
              "        [ 0.69211644,  0.84215707]], dtype=float32)>,\n",
              " <tf.Tensor: shape=(3, 2), dtype=bool, numpy=\n",
              " array([[ True,  True],\n",
              "        [ True,  True],\n",
              "        [ True,  True]])>)"
            ]
          },
          "metadata": {
            "tags": []
          },
          "execution_count": 17
        }
      ]
    },
    {
      "cell_type": "markdown",
      "metadata": {
        "id": "lQu5mTB4AUbU"
      },
      "source": [
        "### Shuffle the order of elements in a Tensor"
      ]
    },
    {
      "cell_type": "code",
      "metadata": {
        "colab": {
          "base_uri": "https://localhost:8080/"
        },
        "id": "DCX5dUfp-rnZ",
        "outputId": "0e2ba537-3971-4588-c5fb-9ef52e5f5cea"
      },
      "source": [
        "# Shuffle a Tensor (Valuble for when you want to shuffle your data so the inherent order doesn't effect learning)\n",
        "not_shuffled = tf.constant([[10,7],\n",
        "                            [3, 4],\n",
        "                            [2, 5]])\n",
        "\n",
        "# Shuffle the non-shuffled tensor\n",
        "tf.random.set_seed(42)\n",
        "tf.random.shuffle(not_shuffled, seed=42)"
      ],
      "execution_count": 18,
      "outputs": [
        {
          "output_type": "execute_result",
          "data": {
            "text/plain": [
              "<tf.Tensor: shape=(3, 2), dtype=int32, numpy=\n",
              "array([[10,  7],\n",
              "       [ 3,  4],\n",
              "       [ 2,  5]], dtype=int32)>"
            ]
          },
          "metadata": {
            "tags": []
          },
          "execution_count": 18
        }
      ]
    },
    {
      "cell_type": "code",
      "metadata": {
        "colab": {
          "base_uri": "https://localhost:8080/"
        },
        "id": "HWi9k9-WBOdA",
        "outputId": "dc40230e-84d5-4dc8-f649-3f7c98895d8e"
      },
      "source": [
        "not_shuffled"
      ],
      "execution_count": 19,
      "outputs": [
        {
          "output_type": "execute_result",
          "data": {
            "text/plain": [
              "<tf.Tensor: shape=(3, 2), dtype=int32, numpy=\n",
              "array([[10,  7],\n",
              "       [ 3,  4],\n",
              "       [ 2,  5]], dtype=int32)>"
            ]
          },
          "metadata": {
            "tags": []
          },
          "execution_count": 19
        }
      ]
    },
    {
      "cell_type": "markdown",
      "metadata": {
        "id": "ER58UIC2BSUt"
      },
      "source": [
        "## HomeWork:\n",
        "* Trying some random tensors\n",
        "* Try to shuffle them with different methods"
      ]
    },
    {
      "cell_type": "markdown",
      "metadata": {
        "id": "QR9pznYEzBG_"
      },
      "source": [
        "### Normal Distribution\n",
        "Bell shaped curve, centered on mean of data and needs standard deviation(stddev)."
      ]
    },
    {
      "cell_type": "code",
      "metadata": {
        "colab": {
          "base_uri": "https://localhost:8080/"
        },
        "id": "x0vrmzyFoY2T",
        "outputId": "22559176-5e53-425c-fc0a-72c9957018ae"
      },
      "source": [
        "tensor_normal = tf.random.Generator.from_seed(7)\n",
        "tensor_normal = tensor_normal.normal((3,3), mean=4, dtype=tf.float32)\n",
        "tensor_normal"
      ],
      "execution_count": 20,
      "outputs": [
        {
          "output_type": "execute_result",
          "data": {
            "text/plain": [
              "<tf.Tensor: shape=(3, 3), dtype=float32, numpy=\n",
              "array([[2.6759605, 4.2878566, 3.12421  ],\n",
              "       [3.91143  , 4.6921163, 4.842157 ],\n",
              "       [3.936215 , 4.928008 , 3.3960211]], dtype=float32)>"
            ]
          },
          "metadata": {
            "tags": []
          },
          "execution_count": 20
        }
      ]
    },
    {
      "cell_type": "markdown",
      "metadata": {
        "id": "jXCa32q4opvv"
      },
      "source": [
        "### Uniform Distribution\n",
        "Rectangle shaped curve, needs range of data"
      ]
    },
    {
      "cell_type": "code",
      "metadata": {
        "colab": {
          "base_uri": "https://localhost:8080/"
        },
        "id": "k14bbx89zw-e",
        "outputId": "2a5b0fa8-9e4a-4bb0-821e-e1076ebcc54e"
      },
      "source": [
        "tensor_uniform = tf.random.Generator.from_seed(7)\n",
        "tensor_uniform = tensor_uniform.uniform((3,3), minval=-4, maxval=4, dtype=tf.int32)\n",
        "tensor_uniform"
      ],
      "execution_count": 21,
      "outputs": [
        {
          "output_type": "execute_result",
          "data": {
            "text/plain": [
              "<tf.Tensor: shape=(3, 3), dtype=int32, numpy=\n",
              "array([[-3, -1, -4],\n",
              "       [ 2,  0,  0],\n",
              "       [-2, -1,  0]], dtype=int32)>"
            ]
          },
          "metadata": {
            "tags": []
          },
          "execution_count": 21
        }
      ]
    },
    {
      "cell_type": "markdown",
      "metadata": {
        "id": "S0UoXT8y1y1s"
      },
      "source": [
        "### Shuffling stuff around\n",
        "using `tf.random.shuffle` to shuffle the tensor on it's 1-Dimension\n",
        "\n",
        "`tf.random.shuffle(value, seed=None, name=None)`\n",
        "\n",
        "Let's see how the seed works."
      ]
    },
    {
      "cell_type": "code",
      "metadata": {
        "colab": {
          "base_uri": "https://localhost:8080/"
        },
        "id": "4U27di0b4FSN",
        "outputId": "4644f968-25fd-4906-b380-ec848f721e87"
      },
      "source": [
        "unshuffled = tf.constant([[1,2],\n",
        "                          [3,4],\n",
        "                          [5,6]])\n",
        "#print('not shuffled:',unshuffled)\n",
        "\n",
        "# Shuffling things up.\n",
        "tf.random.set_seed(1) # Global level random seed\n",
        "tf.random.shuffle(unshuffled, seed=1) # Operational level random seed"
      ],
      "execution_count": 22,
      "outputs": [
        {
          "output_type": "execute_result",
          "data": {
            "text/plain": [
              "<tf.Tensor: shape=(3, 2), dtype=int32, numpy=\n",
              "array([[1, 2],\n",
              "       [3, 4],\n",
              "       [5, 6]], dtype=int32)>"
            ]
          },
          "metadata": {
            "tags": []
          },
          "execution_count": 22
        }
      ]
    },
    {
      "cell_type": "markdown",
      "metadata": {
        "id": "UK6fKkSS61_H"
      },
      "source": [
        "Basically both seeds e.i. the global seed `tf.random.set_seed(n)` and operational level seed `tf.random.shuffle(unshuffled, seed=n)` is used to detrmine the randomness of a function.\n",
        "\n",
        "Its interactions with operation-level seeds is as follows:\n",
        "\n",
        "1. If neither the global seed nor the operation seed is set: A randomly \n",
        "picked seed is used for this op.\n",
        "2. If the graph-level seed is set, but the operation seed is not: The system deterministically picks an operation seed in conjunction with the graph-level seed so that it gets a unique random sequence. Within the same version of tensorflow and user code, this sequence is deterministic. However across different versions, this sequence might change. If the code depends on particular seeds to work, specify both graph-level and operation-level seeds explicitly.\n",
        "3. If the operation seed is set, but the global seed is not set: A default global seed and the specified operation seed are used to determine the random sequence.\n",
        "4.If both the global and the operation seed are set: Both seeds are used in conjunction to determine the random sequence.\n"
      ]
    },
    {
      "cell_type": "markdown",
      "metadata": {
        "id": "7ucri8ZL7vqb"
      },
      "source": [
        "/HOMEWORK"
      ]
    },
    {
      "cell_type": "markdown",
      "metadata": {
        "id": "Qephhg498Dnk"
      },
      "source": [
        "## Other ways to create tensors."
      ]
    },
    {
      "cell_type": "code",
      "metadata": {
        "colab": {
          "base_uri": "https://localhost:8080/"
        },
        "id": "xZo8JStaE-5S",
        "outputId": "3a934186-3be6-4ccf-e556-a0cba7f295ef"
      },
      "source": [
        "tf.ones([3,3]) # Create a tensor with all ones"
      ],
      "execution_count": 23,
      "outputs": [
        {
          "output_type": "execute_result",
          "data": {
            "text/plain": [
              "<tf.Tensor: shape=(3, 3), dtype=float32, numpy=\n",
              "array([[1., 1., 1.],\n",
              "       [1., 1., 1.],\n",
              "       [1., 1., 1.]], dtype=float32)>"
            ]
          },
          "metadata": {
            "tags": []
          },
          "execution_count": 23
        }
      ]
    },
    {
      "cell_type": "code",
      "metadata": {
        "colab": {
          "base_uri": "https://localhost:8080/"
        },
        "id": "GWf_H3sUFHUw",
        "outputId": "9b5059d7-68a8-4563-f76f-d86562474a71"
      },
      "source": [
        "tf.zeros((3,3)) # Create a tensor with all zeros"
      ],
      "execution_count": 24,
      "outputs": [
        {
          "output_type": "execute_result",
          "data": {
            "text/plain": [
              "<tf.Tensor: shape=(3, 3), dtype=float32, numpy=\n",
              "array([[0., 0., 0.],\n",
              "       [0., 0., 0.],\n",
              "       [0., 0., 0.]], dtype=float32)>"
            ]
          },
          "metadata": {
            "tags": []
          },
          "execution_count": 24
        }
      ]
    },
    {
      "cell_type": "markdown",
      "metadata": {
        "id": "GMsn_WBqFe2a"
      },
      "source": [
        "### Turn Numpy arrays into Tensors\n",
        "The main difference between NumPy arrays and TensorFlow Tensors is that tensors can be run on GPU (much faster for numerical computing)"
      ]
    },
    {
      "cell_type": "code",
      "metadata": {
        "colab": {
          "base_uri": "https://localhost:8080/"
        },
        "id": "BOVkDiy8FO6r",
        "outputId": "9bf8de36-f99e-4254-b3dc-d00c7ac945b9"
      },
      "source": [
        "# You can also turn NumPy arrays into TensorFlow tensors\n",
        "import numpy as np\n",
        "\n",
        "num_A = np.arange(1,25,dtype=np.int32) # Create a numpy array between 1 and 25\n",
        "num_A\n",
        "\n",
        "#X = tf.constant(matrix) # Capital for matrix or tensor\n",
        "#y = tf.constant(vector) # Smaller for vector"
      ],
      "execution_count": 25,
      "outputs": [
        {
          "output_type": "execute_result",
          "data": {
            "text/plain": [
              "array([ 1,  2,  3,  4,  5,  6,  7,  8,  9, 10, 11, 12, 13, 14, 15, 16, 17,\n",
              "       18, 19, 20, 21, 22, 23, 24], dtype=int32)"
            ]
          },
          "metadata": {
            "tags": []
          },
          "execution_count": 25
        }
      ]
    },
    {
      "cell_type": "code",
      "metadata": {
        "colab": {
          "base_uri": "https://localhost:8080/"
        },
        "id": "wU25ZW3dGtOx",
        "outputId": "e2577f89-14c3-4200-fa79-588babab946f"
      },
      "source": [
        "A = tf.constant(num_A, shape = (2,3,4))\n",
        "B = tf.constant(num_A)\n",
        "A,B"
      ],
      "execution_count": 26,
      "outputs": [
        {
          "output_type": "execute_result",
          "data": {
            "text/plain": [
              "(<tf.Tensor: shape=(2, 3, 4), dtype=int32, numpy=\n",
              " array([[[ 1,  2,  3,  4],\n",
              "         [ 5,  6,  7,  8],\n",
              "         [ 9, 10, 11, 12]],\n",
              " \n",
              "        [[13, 14, 15, 16],\n",
              "         [17, 18, 19, 20],\n",
              "         [21, 22, 23, 24]]], dtype=int32)>,\n",
              " <tf.Tensor: shape=(24,), dtype=int32, numpy=\n",
              " array([ 1,  2,  3,  4,  5,  6,  7,  8,  9, 10, 11, 12, 13, 14, 15, 16, 17,\n",
              "        18, 19, 20, 21, 22, 23, 24], dtype=int32)>)"
            ]
          },
          "metadata": {
            "tags": []
          },
          "execution_count": 26
        }
      ]
    },
    {
      "cell_type": "markdown",
      "metadata": {
        "id": "O2NbpGC9G2op"
      },
      "source": [
        "## Getting information from tensors\n",
        "* Shape\n",
        "* Size\n",
        "* Rank\n",
        "* Axis"
      ]
    },
    {
      "cell_type": "code",
      "metadata": {
        "colab": {
          "base_uri": "https://localhost:8080/"
        },
        "id": "iM7yhumoH5W_",
        "outputId": "2f92304e-8c45-4267-cd18-4b8611dee16c"
      },
      "source": [
        "# Create a rank 4 tensor (4 Dimension)\n",
        "rank_4_tensor = tf.zeros(shape=[2,3,4,5])\n",
        "rank_4_tensor"
      ],
      "execution_count": 27,
      "outputs": [
        {
          "output_type": "execute_result",
          "data": {
            "text/plain": [
              "<tf.Tensor: shape=(2, 3, 4, 5), dtype=float32, numpy=\n",
              "array([[[[0., 0., 0., 0., 0.],\n",
              "         [0., 0., 0., 0., 0.],\n",
              "         [0., 0., 0., 0., 0.],\n",
              "         [0., 0., 0., 0., 0.]],\n",
              "\n",
              "        [[0., 0., 0., 0., 0.],\n",
              "         [0., 0., 0., 0., 0.],\n",
              "         [0., 0., 0., 0., 0.],\n",
              "         [0., 0., 0., 0., 0.]],\n",
              "\n",
              "        [[0., 0., 0., 0., 0.],\n",
              "         [0., 0., 0., 0., 0.],\n",
              "         [0., 0., 0., 0., 0.],\n",
              "         [0., 0., 0., 0., 0.]]],\n",
              "\n",
              "\n",
              "       [[[0., 0., 0., 0., 0.],\n",
              "         [0., 0., 0., 0., 0.],\n",
              "         [0., 0., 0., 0., 0.],\n",
              "         [0., 0., 0., 0., 0.]],\n",
              "\n",
              "        [[0., 0., 0., 0., 0.],\n",
              "         [0., 0., 0., 0., 0.],\n",
              "         [0., 0., 0., 0., 0.],\n",
              "         [0., 0., 0., 0., 0.]],\n",
              "\n",
              "        [[0., 0., 0., 0., 0.],\n",
              "         [0., 0., 0., 0., 0.],\n",
              "         [0., 0., 0., 0., 0.],\n",
              "         [0., 0., 0., 0., 0.]]]], dtype=float32)>"
            ]
          },
          "metadata": {
            "tags": []
          },
          "execution_count": 27
        }
      ]
    },
    {
      "cell_type": "code",
      "metadata": {
        "colab": {
          "base_uri": "https://localhost:8080/"
        },
        "id": "fYN0OtfYJLbp",
        "outputId": "eacd09a9-1fa1-4922-b3fd-8b0494134d56"
      },
      "source": [
        "rank_4_tensor.shape, rank_4_tensor.ndim, tf.size(rank_4_tensor)"
      ],
      "execution_count": 28,
      "outputs": [
        {
          "output_type": "execute_result",
          "data": {
            "text/plain": [
              "(TensorShape([2, 3, 4, 5]), 4, <tf.Tensor: shape=(), dtype=int32, numpy=120>)"
            ]
          },
          "metadata": {
            "tags": []
          },
          "execution_count": 28
        }
      ]
    },
    {
      "cell_type": "code",
      "metadata": {
        "colab": {
          "base_uri": "https://localhost:8080/"
        },
        "id": "uq6ceeM4KCT-",
        "outputId": "68591154-c86b-4fc0-f3a0-d95cb9546714"
      },
      "source": [
        "# Get varios attributes of our tensor\n",
        "print(\"Datatype of every element:\", rank_4_tensor.dtype)\n",
        "print(\"Number of dimension(rank)\", rank_4_tensor.ndim)\n",
        "print(\"Shape of tensor:\", rank_4_tensor.shape)\n",
        "print(\"Elements along the 0 axis:\", rank_4_tensor.shape[0])\n",
        "print(\"Elements along last axis:\", rank_4_tensor.shape[-1])\n",
        "print(\"Total no. of elements in tensor:\", tf.size(rank_4_tensor).numpy())"
      ],
      "execution_count": 29,
      "outputs": [
        {
          "output_type": "stream",
          "text": [
            "Datatype of every element: <dtype: 'float32'>\n",
            "Number of dimension(rank) 4\n",
            "Shape of tensor: (2, 3, 4, 5)\n",
            "Elements along the 0 axis: 2\n",
            "Elements along last axis: 5\n",
            "Total no. of elements in tensor: 120\n"
          ],
          "name": "stdout"
        }
      ]
    },
    {
      "cell_type": "markdown",
      "metadata": {
        "id": "JTIpBCn6LCHR"
      },
      "source": [
        "## Indexing tensors\n",
        "Tensors can be indexed just like Python list."
      ]
    },
    {
      "cell_type": "code",
      "metadata": {
        "colab": {
          "base_uri": "https://localhost:8080/"
        },
        "id": "WTXhc1o3LzW1",
        "outputId": "c9d46ed0-4ecf-4521-b795-b6974783a03e"
      },
      "source": [
        "# Get first 2 element of each dimension.\n",
        "rank_4_tensor[:2, :2, :2, :2]"
      ],
      "execution_count": 30,
      "outputs": [
        {
          "output_type": "execute_result",
          "data": {
            "text/plain": [
              "<tf.Tensor: shape=(2, 2, 2, 2), dtype=float32, numpy=\n",
              "array([[[[0., 0.],\n",
              "         [0., 0.]],\n",
              "\n",
              "        [[0., 0.],\n",
              "         [0., 0.]]],\n",
              "\n",
              "\n",
              "       [[[0., 0.],\n",
              "         [0., 0.]],\n",
              "\n",
              "        [[0., 0.],\n",
              "         [0., 0.]]]], dtype=float32)>"
            ]
          },
          "metadata": {
            "tags": []
          },
          "execution_count": 30
        }
      ]
    },
    {
      "cell_type": "code",
      "metadata": {
        "colab": {
          "base_uri": "https://localhost:8080/"
        },
        "id": "Bx3EJJ1UMJ3-",
        "outputId": "5fa6c0b1-198e-454d-c3f8-208b164c2b23"
      },
      "source": [
        "# Get the element from each dimension from each index except for the final one\n",
        "rank_4_tensor[:1,:1,:1,:].numpy()"
      ],
      "execution_count": 31,
      "outputs": [
        {
          "output_type": "execute_result",
          "data": {
            "text/plain": [
              "array([[[[0., 0., 0., 0., 0.]]]], dtype=float32)"
            ]
          },
          "metadata": {
            "tags": []
          },
          "execution_count": 31
        }
      ]
    },
    {
      "cell_type": "code",
      "metadata": {
        "colab": {
          "base_uri": "https://localhost:8080/"
        },
        "id": "cag4ivnjNQ9j",
        "outputId": "15374971-f686-4851-bcd5-aad2f62d376a"
      },
      "source": [
        "# Create a rank 2 tensor\n",
        "rank_2_tensor = tf.constant([[10,7],\n",
        "                             [3,4]])\n",
        "rank_2_tensor.shape"
      ],
      "execution_count": 32,
      "outputs": [
        {
          "output_type": "execute_result",
          "data": {
            "text/plain": [
              "TensorShape([2, 2])"
            ]
          },
          "metadata": {
            "tags": []
          },
          "execution_count": 32
        }
      ]
    },
    {
      "cell_type": "code",
      "metadata": {
        "colab": {
          "base_uri": "https://localhost:8080/"
        },
        "id": "GP-wfpC-N0wT",
        "outputId": "3cb6e06a-a70c-41f6-aabf-64ab29f427b2"
      },
      "source": [
        "# Get the last item of each row of rank_2_tensor\n",
        "rank_2_tensor[:, -1]"
      ],
      "execution_count": 33,
      "outputs": [
        {
          "output_type": "execute_result",
          "data": {
            "text/plain": [
              "<tf.Tensor: shape=(2,), dtype=int32, numpy=array([7, 4], dtype=int32)>"
            ]
          },
          "metadata": {
            "tags": []
          },
          "execution_count": 33
        }
      ]
    },
    {
      "cell_type": "code",
      "metadata": {
        "colab": {
          "base_uri": "https://localhost:8080/"
        },
        "id": "MHQc-LEROHQY",
        "outputId": "49eb973b-875f-4a1a-b080-c4eba52324a3"
      },
      "source": [
        "# Adding extra dimension to rank_2_tensor\n",
        "rank_3_tensor = rank_2_tensor[..., tf.newaxis] # ... means after all axises\n",
        "rank_3_tensor"
      ],
      "execution_count": 34,
      "outputs": [
        {
          "output_type": "execute_result",
          "data": {
            "text/plain": [
              "<tf.Tensor: shape=(2, 2, 1), dtype=int32, numpy=\n",
              "array([[[10],\n",
              "        [ 7]],\n",
              "\n",
              "       [[ 3],\n",
              "        [ 4]]], dtype=int32)>"
            ]
          },
          "metadata": {
            "tags": []
          },
          "execution_count": 34
        }
      ]
    },
    {
      "cell_type": "code",
      "metadata": {
        "colab": {
          "base_uri": "https://localhost:8080/"
        },
        "id": "NCaDSxCmOfUi",
        "outputId": "43f8a103-0246-4a51-fd03-1f63e76282ce"
      },
      "source": [
        "# Alternative to tf.newaxis\n",
        "print(rank_2_tensor)\n",
        "\n",
        "tf.expand_dims(rank_2_tensor, axis=-1)"
      ],
      "execution_count": 35,
      "outputs": [
        {
          "output_type": "stream",
          "text": [
            "tf.Tensor(\n",
            "[[10  7]\n",
            " [ 3  4]], shape=(2, 2), dtype=int32)\n"
          ],
          "name": "stdout"
        },
        {
          "output_type": "execute_result",
          "data": {
            "text/plain": [
              "<tf.Tensor: shape=(2, 2, 1), dtype=int32, numpy=\n",
              "array([[[10],\n",
              "        [ 7]],\n",
              "\n",
              "       [[ 3],\n",
              "        [ 4]]], dtype=int32)>"
            ]
          },
          "metadata": {
            "tags": []
          },
          "execution_count": 35
        }
      ]
    },
    {
      "cell_type": "markdown",
      "metadata": {
        "id": "OpXhll6CQvDD"
      },
      "source": [
        "## Manipulating tensors (tensor operation)\n"
      ]
    },
    {
      "cell_type": "markdown",
      "metadata": {
        "id": "pzY2-bp49DTM"
      },
      "source": [
        "#### Basic operations\n",
        "\n",
        "`+, -, *, /`"
      ]
    },
    {
      "cell_type": "code",
      "metadata": {
        "colab": {
          "base_uri": "https://localhost:8080/"
        },
        "id": "iCD4MGKZRcSs",
        "outputId": "925e7018-018d-4fde-c0d8-b3e2844be607"
      },
      "source": [
        "# You can add values to a tensor using the addition operator\n",
        "tensor = tf.constant([[10,7],\n",
        "                      [3,4]])\n",
        "tensor + 10"
      ],
      "execution_count": 36,
      "outputs": [
        {
          "output_type": "execute_result",
          "data": {
            "text/plain": [
              "<tf.Tensor: shape=(2, 2), dtype=int32, numpy=\n",
              "array([[20, 17],\n",
              "       [13, 14]], dtype=int32)>"
            ]
          },
          "metadata": {
            "tags": []
          },
          "execution_count": 36
        }
      ]
    },
    {
      "cell_type": "code",
      "metadata": {
        "colab": {
          "base_uri": "https://localhost:8080/"
        },
        "id": "1cx9QNcbuB7z",
        "outputId": "b43ba1d0-4c21-4022-abd7-080c48bd29bb"
      },
      "source": [
        "# Original tensor is unchanged\n",
        "tensor"
      ],
      "execution_count": 37,
      "outputs": [
        {
          "output_type": "execute_result",
          "data": {
            "text/plain": [
              "<tf.Tensor: shape=(2, 2), dtype=int32, numpy=\n",
              "array([[10,  7],\n",
              "       [ 3,  4]], dtype=int32)>"
            ]
          },
          "metadata": {
            "tags": []
          },
          "execution_count": 37
        }
      ]
    },
    {
      "cell_type": "code",
      "metadata": {
        "colab": {
          "base_uri": "https://localhost:8080/"
        },
        "id": "ErqvGByTuX6n",
        "outputId": "eb864a4a-f2f5-46f9-d137-181dd9427401"
      },
      "source": [
        "# Multiplication also works\n",
        "tensor*10"
      ],
      "execution_count": 38,
      "outputs": [
        {
          "output_type": "execute_result",
          "data": {
            "text/plain": [
              "<tf.Tensor: shape=(2, 2), dtype=int32, numpy=\n",
              "array([[100,  70],\n",
              "       [ 30,  40]], dtype=int32)>"
            ]
          },
          "metadata": {
            "tags": []
          },
          "execution_count": 38
        }
      ]
    },
    {
      "cell_type": "code",
      "metadata": {
        "colab": {
          "base_uri": "https://localhost:8080/"
        },
        "id": "jX00QoDlupl7",
        "outputId": "fee42b21-5607-4424-b634-2957991ae621"
      },
      "source": [
        "# Substraction if you want\n",
        "tensor - 10"
      ],
      "execution_count": 39,
      "outputs": [
        {
          "output_type": "execute_result",
          "data": {
            "text/plain": [
              "<tf.Tensor: shape=(2, 2), dtype=int32, numpy=\n",
              "array([[ 0, -3],\n",
              "       [-7, -6]], dtype=int32)>"
            ]
          },
          "metadata": {
            "tags": []
          },
          "execution_count": 39
        }
      ]
    },
    {
      "cell_type": "code",
      "metadata": {
        "colab": {
          "base_uri": "https://localhost:8080/"
        },
        "id": "T_8XfIdOuwqO",
        "outputId": "73b0f571-14fc-46cf-9e25-570896e0fd17"
      },
      "source": [
        "# We can use the TensorFlow too\n",
        "tf.multiply(tensor,10)"
      ],
      "execution_count": 40,
      "outputs": [
        {
          "output_type": "execute_result",
          "data": {
            "text/plain": [
              "<tf.Tensor: shape=(2, 2), dtype=int32, numpy=\n",
              "array([[100,  70],\n",
              "       [ 30,  40]], dtype=int32)>"
            ]
          },
          "metadata": {
            "tags": []
          },
          "execution_count": 40
        }
      ]
    },
    {
      "cell_type": "markdown",
      "metadata": {
        "id": "Dq9xbmfOu_rb"
      },
      "source": [
        "**TensorFlow operators are fast**"
      ]
    },
    {
      "cell_type": "code",
      "metadata": {
        "colab": {
          "base_uri": "https://localhost:8080/"
        },
        "id": "2_b-NSzgvO-6",
        "outputId": "73e3fc3a-1e1e-4782-889b-eee8ec7a2997"
      },
      "source": [
        "tf.add(tensor,12)"
      ],
      "execution_count": 41,
      "outputs": [
        {
          "output_type": "execute_result",
          "data": {
            "text/plain": [
              "<tf.Tensor: shape=(2, 2), dtype=int32, numpy=\n",
              "array([[22, 19],\n",
              "       [15, 16]], dtype=int32)>"
            ]
          },
          "metadata": {
            "tags": []
          },
          "execution_count": 41
        }
      ]
    },
    {
      "cell_type": "markdown",
      "metadata": {
        "id": "zeRYhnnAvbIp"
      },
      "source": [
        "#### Matrix Multplication\n",
        "\n",
        "In machine learning, matrix multiplication is one of the most common operation\n",
        "\n",
        "```python\n",
        "tf.linalg.matmul(\n",
        "    a, b, transpose_a=False, transpose_b=False, adjoint_a=False, adjoint_b=False,\n",
        "    a_is_sparse=False, b_is_sparse=False, name=None\n",
        ")\n",
        "```"
      ]
    },
    {
      "cell_type": "code",
      "metadata": {
        "colab": {
          "base_uri": "https://localhost:8080/"
        },
        "id": "RAoWXU7LviYh",
        "outputId": "a4d5238d-5ec1-4a35-a4bf-b739d07ceb31"
      },
      "source": [
        "# Matrix multiplication in TensorFlow.\n",
        "print(tensor)\n",
        "tf.matmul(tensor, tensor)\n"
      ],
      "execution_count": 42,
      "outputs": [
        {
          "output_type": "stream",
          "text": [
            "tf.Tensor(\n",
            "[[10  7]\n",
            " [ 3  4]], shape=(2, 2), dtype=int32)\n"
          ],
          "name": "stdout"
        },
        {
          "output_type": "execute_result",
          "data": {
            "text/plain": [
              "<tf.Tensor: shape=(2, 2), dtype=int32, numpy=\n",
              "array([[121,  98],\n",
              "       [ 42,  37]], dtype=int32)>"
            ]
          },
          "metadata": {
            "tags": []
          },
          "execution_count": 42
        }
      ]
    },
    {
      "cell_type": "code",
      "metadata": {
        "colab": {
          "base_uri": "https://localhost:8080/"
        },
        "id": "EAjoxz-hyMTB",
        "outputId": "54679eaf-c844-4738-9009-ce4b656fd268"
      },
      "source": [
        "# Matrix multiplication with Python operator \"@\"\n",
        "tensor @ tensor"
      ],
      "execution_count": 43,
      "outputs": [
        {
          "output_type": "execute_result",
          "data": {
            "text/plain": [
              "<tf.Tensor: shape=(2, 2), dtype=int32, numpy=\n",
              "array([[121,  98],\n",
              "       [ 42,  37]], dtype=int32)>"
            ]
          },
          "metadata": {
            "tags": []
          },
          "execution_count": 43
        }
      ]
    },
    {
      "cell_type": "code",
      "metadata": {
        "colab": {
          "base_uri": "https://localhost:8080/"
        },
        "id": "1G9k71W1ye13",
        "outputId": "5bb1ba2f-f8bf-45d4-dfbb-fbd5ae7ab703"
      },
      "source": [
        "# Create a tensor (3,2)\n",
        "X = tf.constant([[1,2],\n",
        "                [3,4],\n",
        "                [5,6]])\n",
        "# Create another (3,2)\n",
        "Y = tf.constant([[7,8],\n",
        "                 [9,10],\n",
        "                 [11,12]])\n",
        "X,Y"
      ],
      "execution_count": 44,
      "outputs": [
        {
          "output_type": "execute_result",
          "data": {
            "text/plain": [
              "(<tf.Tensor: shape=(3, 2), dtype=int32, numpy=\n",
              " array([[1, 2],\n",
              "        [3, 4],\n",
              "        [5, 6]], dtype=int32)>, <tf.Tensor: shape=(3, 2), dtype=int32, numpy=\n",
              " array([[ 7,  8],\n",
              "        [ 9, 10],\n",
              "        [11, 12]], dtype=int32)>)"
            ]
          },
          "metadata": {
            "tags": []
          },
          "execution_count": 44
        }
      ]
    },
    {
      "cell_type": "code",
      "metadata": {
        "colab": {
          "base_uri": "https://localhost:8080/",
          "height": 233
        },
        "id": "J_PIJXl9zjAL",
        "outputId": "6a89fef4-b1ab-49f4-85d9-cde611a03fda"
      },
      "source": [
        "X @ Y"
      ],
      "execution_count": 45,
      "outputs": [
        {
          "output_type": "error",
          "ename": "InvalidArgumentError",
          "evalue": "ignored",
          "traceback": [
            "\u001b[0;31m---------------------------------------------------------------------------\u001b[0m",
            "\u001b[0;31mInvalidArgumentError\u001b[0m                      Traceback (most recent call last)",
            "\u001b[0;32m<ipython-input-45-7db1014e61e3>\u001b[0m in \u001b[0;36m<module>\u001b[0;34m()\u001b[0m\n\u001b[0;32m----> 1\u001b[0;31m \u001b[0mX\u001b[0m \u001b[0;34m@\u001b[0m \u001b[0mY\u001b[0m\u001b[0;34m\u001b[0m\u001b[0;34m\u001b[0m\u001b[0m\n\u001b[0m",
            "\u001b[0;32m/usr/local/lib/python3.7/dist-packages/tensorflow/python/ops/math_ops.py\u001b[0m in \u001b[0;36mbinary_op_wrapper\u001b[0;34m(x, y)\u001b[0m\n\u001b[1;32m   1162\u001b[0m     \u001b[0;32mwith\u001b[0m \u001b[0mops\u001b[0m\u001b[0;34m.\u001b[0m\u001b[0mname_scope\u001b[0m\u001b[0;34m(\u001b[0m\u001b[0;32mNone\u001b[0m\u001b[0;34m,\u001b[0m \u001b[0mop_name\u001b[0m\u001b[0;34m,\u001b[0m \u001b[0;34m[\u001b[0m\u001b[0mx\u001b[0m\u001b[0;34m,\u001b[0m \u001b[0my\u001b[0m\u001b[0;34m]\u001b[0m\u001b[0;34m)\u001b[0m \u001b[0;32mas\u001b[0m \u001b[0mname\u001b[0m\u001b[0;34m:\u001b[0m\u001b[0;34m\u001b[0m\u001b[0;34m\u001b[0m\u001b[0m\n\u001b[1;32m   1163\u001b[0m       \u001b[0;32mtry\u001b[0m\u001b[0;34m:\u001b[0m\u001b[0;34m\u001b[0m\u001b[0;34m\u001b[0m\u001b[0m\n\u001b[0;32m-> 1164\u001b[0;31m         \u001b[0;32mreturn\u001b[0m \u001b[0mfunc\u001b[0m\u001b[0;34m(\u001b[0m\u001b[0mx\u001b[0m\u001b[0;34m,\u001b[0m \u001b[0my\u001b[0m\u001b[0;34m,\u001b[0m \u001b[0mname\u001b[0m\u001b[0;34m=\u001b[0m\u001b[0mname\u001b[0m\u001b[0;34m)\u001b[0m\u001b[0;34m\u001b[0m\u001b[0;34m\u001b[0m\u001b[0m\n\u001b[0m\u001b[1;32m   1165\u001b[0m       \u001b[0;32mexcept\u001b[0m \u001b[0;34m(\u001b[0m\u001b[0mTypeError\u001b[0m\u001b[0;34m,\u001b[0m \u001b[0mValueError\u001b[0m\u001b[0;34m)\u001b[0m \u001b[0;32mas\u001b[0m \u001b[0me\u001b[0m\u001b[0;34m:\u001b[0m\u001b[0;34m\u001b[0m\u001b[0;34m\u001b[0m\u001b[0m\n\u001b[1;32m   1166\u001b[0m         \u001b[0;31m# Even if dispatching the op failed, the RHS may be a tensor aware\u001b[0m\u001b[0;34m\u001b[0m\u001b[0;34m\u001b[0m\u001b[0;34m\u001b[0m\u001b[0m\n",
            "\u001b[0;32m/usr/local/lib/python3.7/dist-packages/tensorflow/python/util/dispatch.py\u001b[0m in \u001b[0;36mwrapper\u001b[0;34m(*args, **kwargs)\u001b[0m\n\u001b[1;32m    199\u001b[0m     \u001b[0;34m\"\"\"Call target, and fall back on dispatchers if there is a TypeError.\"\"\"\u001b[0m\u001b[0;34m\u001b[0m\u001b[0;34m\u001b[0m\u001b[0m\n\u001b[1;32m    200\u001b[0m     \u001b[0;32mtry\u001b[0m\u001b[0;34m:\u001b[0m\u001b[0;34m\u001b[0m\u001b[0;34m\u001b[0m\u001b[0m\n\u001b[0;32m--> 201\u001b[0;31m       \u001b[0;32mreturn\u001b[0m \u001b[0mtarget\u001b[0m\u001b[0;34m(\u001b[0m\u001b[0;34m*\u001b[0m\u001b[0margs\u001b[0m\u001b[0;34m,\u001b[0m \u001b[0;34m**\u001b[0m\u001b[0mkwargs\u001b[0m\u001b[0;34m)\u001b[0m\u001b[0;34m\u001b[0m\u001b[0;34m\u001b[0m\u001b[0m\n\u001b[0m\u001b[1;32m    202\u001b[0m     \u001b[0;32mexcept\u001b[0m \u001b[0;34m(\u001b[0m\u001b[0mTypeError\u001b[0m\u001b[0;34m,\u001b[0m \u001b[0mValueError\u001b[0m\u001b[0;34m)\u001b[0m\u001b[0;34m:\u001b[0m\u001b[0;34m\u001b[0m\u001b[0;34m\u001b[0m\u001b[0m\n\u001b[1;32m    203\u001b[0m       \u001b[0;31m# Note: convert_to_eager_tensor currently raises a ValueError, not a\u001b[0m\u001b[0;34m\u001b[0m\u001b[0;34m\u001b[0m\u001b[0;34m\u001b[0m\u001b[0m\n",
            "\u001b[0;32m/usr/local/lib/python3.7/dist-packages/tensorflow/python/ops/math_ops.py\u001b[0m in \u001b[0;36mmatmul\u001b[0;34m(a, b, transpose_a, transpose_b, adjoint_a, adjoint_b, a_is_sparse, b_is_sparse, name)\u001b[0m\n\u001b[1;32m   3313\u001b[0m     \u001b[0;32melse\u001b[0m\u001b[0;34m:\u001b[0m\u001b[0;34m\u001b[0m\u001b[0;34m\u001b[0m\u001b[0m\n\u001b[1;32m   3314\u001b[0m       return gen_math_ops.mat_mul(\n\u001b[0;32m-> 3315\u001b[0;31m           a, b, transpose_a=transpose_a, transpose_b=transpose_b, name=name)\n\u001b[0m\u001b[1;32m   3316\u001b[0m \u001b[0;34m\u001b[0m\u001b[0m\n\u001b[1;32m   3317\u001b[0m \u001b[0;34m\u001b[0m\u001b[0m\n",
            "\u001b[0;32m/usr/local/lib/python3.7/dist-packages/tensorflow/python/ops/gen_math_ops.py\u001b[0m in \u001b[0;36mmat_mul\u001b[0;34m(a, b, transpose_a, transpose_b, name)\u001b[0m\n\u001b[1;32m   5530\u001b[0m       \u001b[0;32mreturn\u001b[0m \u001b[0m_result\u001b[0m\u001b[0;34m\u001b[0m\u001b[0;34m\u001b[0m\u001b[0m\n\u001b[1;32m   5531\u001b[0m     \u001b[0;32mexcept\u001b[0m \u001b[0m_core\u001b[0m\u001b[0;34m.\u001b[0m\u001b[0m_NotOkStatusException\u001b[0m \u001b[0;32mas\u001b[0m \u001b[0me\u001b[0m\u001b[0;34m:\u001b[0m\u001b[0;34m\u001b[0m\u001b[0;34m\u001b[0m\u001b[0m\n\u001b[0;32m-> 5532\u001b[0;31m       \u001b[0m_ops\u001b[0m\u001b[0;34m.\u001b[0m\u001b[0mraise_from_not_ok_status\u001b[0m\u001b[0;34m(\u001b[0m\u001b[0me\u001b[0m\u001b[0;34m,\u001b[0m \u001b[0mname\u001b[0m\u001b[0;34m)\u001b[0m\u001b[0;34m\u001b[0m\u001b[0;34m\u001b[0m\u001b[0m\n\u001b[0m\u001b[1;32m   5533\u001b[0m     \u001b[0;32mexcept\u001b[0m \u001b[0m_core\u001b[0m\u001b[0;34m.\u001b[0m\u001b[0m_FallbackException\u001b[0m\u001b[0;34m:\u001b[0m\u001b[0;34m\u001b[0m\u001b[0;34m\u001b[0m\u001b[0m\n\u001b[1;32m   5534\u001b[0m       \u001b[0;32mpass\u001b[0m\u001b[0;34m\u001b[0m\u001b[0;34m\u001b[0m\u001b[0m\n",
            "\u001b[0;32m/usr/local/lib/python3.7/dist-packages/tensorflow/python/framework/ops.py\u001b[0m in \u001b[0;36mraise_from_not_ok_status\u001b[0;34m(e, name)\u001b[0m\n\u001b[1;32m   6860\u001b[0m   \u001b[0mmessage\u001b[0m \u001b[0;34m=\u001b[0m \u001b[0me\u001b[0m\u001b[0;34m.\u001b[0m\u001b[0mmessage\u001b[0m \u001b[0;34m+\u001b[0m \u001b[0;34m(\u001b[0m\u001b[0;34m\" name: \"\u001b[0m \u001b[0;34m+\u001b[0m \u001b[0mname\u001b[0m \u001b[0;32mif\u001b[0m \u001b[0mname\u001b[0m \u001b[0;32mis\u001b[0m \u001b[0;32mnot\u001b[0m \u001b[0;32mNone\u001b[0m \u001b[0;32melse\u001b[0m \u001b[0;34m\"\"\u001b[0m\u001b[0;34m)\u001b[0m\u001b[0;34m\u001b[0m\u001b[0;34m\u001b[0m\u001b[0m\n\u001b[1;32m   6861\u001b[0m   \u001b[0;31m# pylint: disable=protected-access\u001b[0m\u001b[0;34m\u001b[0m\u001b[0;34m\u001b[0m\u001b[0;34m\u001b[0m\u001b[0m\n\u001b[0;32m-> 6862\u001b[0;31m   \u001b[0msix\u001b[0m\u001b[0;34m.\u001b[0m\u001b[0mraise_from\u001b[0m\u001b[0;34m(\u001b[0m\u001b[0mcore\u001b[0m\u001b[0;34m.\u001b[0m\u001b[0m_status_to_exception\u001b[0m\u001b[0;34m(\u001b[0m\u001b[0me\u001b[0m\u001b[0;34m.\u001b[0m\u001b[0mcode\u001b[0m\u001b[0;34m,\u001b[0m \u001b[0mmessage\u001b[0m\u001b[0;34m)\u001b[0m\u001b[0;34m,\u001b[0m \u001b[0;32mNone\u001b[0m\u001b[0;34m)\u001b[0m\u001b[0;34m\u001b[0m\u001b[0;34m\u001b[0m\u001b[0m\n\u001b[0m\u001b[1;32m   6863\u001b[0m   \u001b[0;31m# pylint: enable=protected-access\u001b[0m\u001b[0;34m\u001b[0m\u001b[0;34m\u001b[0m\u001b[0;34m\u001b[0m\u001b[0m\n\u001b[1;32m   6864\u001b[0m \u001b[0;34m\u001b[0m\u001b[0m\n",
            "\u001b[0;32m/usr/local/lib/python3.7/dist-packages/six.py\u001b[0m in \u001b[0;36mraise_from\u001b[0;34m(value, from_value)\u001b[0m\n",
            "\u001b[0;31mInvalidArgumentError\u001b[0m: Matrix size-incompatible: In[0]: [3,2], In[1]: [3,2] [Op:MatMul]"
          ]
        }
      ]
    },
    {
      "cell_type": "code",
      "metadata": {
        "colab": {
          "base_uri": "https://localhost:8080/"
        },
        "id": "2XXIUh7Q0ZvT",
        "outputId": "c6e11504-ede4-41a9-9e42-b5770b7b4e36"
      },
      "source": [
        "# Let's reshape the Y\n",
        "Y\n",
        "tf.reshape(Y, shape=(2,3))"
      ],
      "execution_count": 48,
      "outputs": [
        {
          "output_type": "execute_result",
          "data": {
            "text/plain": [
              "<tf.Tensor: shape=(2, 3), dtype=int32, numpy=\n",
              "array([[ 7,  8,  9],\n",
              "       [10, 11, 12]], dtype=int32)>"
            ]
          },
          "metadata": {
            "tags": []
          },
          "execution_count": 48
        }
      ]
    },
    {
      "cell_type": "code",
      "metadata": {
        "colab": {
          "base_uri": "https://localhost:8080/"
        },
        "id": "d0qKRfAN1Sc1",
        "outputId": "a4668055-edc7-4cb2-a348-5174b8a05816"
      },
      "source": [
        "X @ tf.reshape(Y, shape=(2,3))"
      ],
      "execution_count": 49,
      "outputs": [
        {
          "output_type": "execute_result",
          "data": {
            "text/plain": [
              "<tf.Tensor: shape=(3, 3), dtype=int32, numpy=\n",
              "array([[ 27,  30,  33],\n",
              "       [ 61,  68,  75],\n",
              "       [ 95, 106, 117]], dtype=int32)>"
            ]
          },
          "metadata": {
            "tags": []
          },
          "execution_count": 49
        }
      ]
    },
    {
      "cell_type": "code",
      "metadata": {
        "colab": {
          "base_uri": "https://localhost:8080/"
        },
        "id": "DtmadzAG1hO8",
        "outputId": "cb35b5a8-d5fa-4720-9260-58fe53e5ebf6"
      },
      "source": [
        "# Can do the same with transpose\n",
        "tf.transpose(X)"
      ],
      "execution_count": 50,
      "outputs": [
        {
          "output_type": "execute_result",
          "data": {
            "text/plain": [
              "<tf.Tensor: shape=(2, 3), dtype=int32, numpy=\n",
              "array([[1, 3, 5],\n",
              "       [2, 4, 6]], dtype=int32)>"
            ]
          },
          "metadata": {
            "tags": []
          },
          "execution_count": 50
        }
      ]
    },
    {
      "cell_type": "markdown",
      "metadata": {
        "id": "PpwbATsw2Rrh"
      },
      "source": [
        "**The Dot Produt**\n",
        "Matrix multiplication is also reffered to as dot product.\n",
        "\n",
        "we can perform matrix multiplication using:\n",
        "- `tf.matmul()`\n",
        "- `tf.tensordot()`\n",
        "- `@`"
      ]
    },
    {
      "cell_type": "code",
      "metadata": {
        "colab": {
          "base_uri": "https://localhost:8080/"
        },
        "id": "IpNS56wX8bi7",
        "outputId": "5b095444-6004-4b30-d68a-4732bb359492"
      },
      "source": [
        "print(tf.tensordot(X, Y, 0))\n",
        "X,Y"
      ],
      "execution_count": 59,
      "outputs": [
        {
          "output_type": "stream",
          "text": [
            "tf.Tensor(\n",
            "[[[[ 7  8]\n",
            "   [ 9 10]\n",
            "   [11 12]]\n",
            "\n",
            "  [[14 16]\n",
            "   [18 20]\n",
            "   [22 24]]]\n",
            "\n",
            "\n",
            " [[[21 24]\n",
            "   [27 30]\n",
            "   [33 36]]\n",
            "\n",
            "  [[28 32]\n",
            "   [36 40]\n",
            "   [44 48]]]\n",
            "\n",
            "\n",
            " [[[35 40]\n",
            "   [45 50]\n",
            "   [55 60]]\n",
            "\n",
            "  [[42 48]\n",
            "   [54 60]\n",
            "   [66 72]]]], shape=(3, 2, 3, 2), dtype=int32)\n"
          ],
          "name": "stdout"
        },
        {
          "output_type": "execute_result",
          "data": {
            "text/plain": [
              "(<tf.Tensor: shape=(3, 2), dtype=int32, numpy=\n",
              " array([[1, 2],\n",
              "        [3, 4],\n",
              "        [5, 6]], dtype=int32)>, <tf.Tensor: shape=(3, 2), dtype=int32, numpy=\n",
              " array([[ 7,  8],\n",
              "        [ 9, 10],\n",
              "        [11, 12]], dtype=int32)>)"
            ]
          },
          "metadata": {
            "tags": []
          },
          "execution_count": 59
        }
      ]
    },
    {
      "cell_type": "markdown",
      "metadata": {
        "id": "ghJUH3uf3uTH"
      },
      "source": [
        "**Generally, when performing matrix multiplication on two tensors and one of the axes doesn't line up, you will transpose (rather than reshape) one of the tensors to get satisfy multiplication rules.**"
      ]
    },
    {
      "cell_type": "markdown",
      "metadata": {
        "id": "m-4DPBaQ8m5X"
      },
      "source": [
        "#### Changing the datatype of a tensor\n",
        "\n",
        "`tf.cast(tensor, dtype)`"
      ]
    },
    {
      "cell_type": "code",
      "metadata": {
        "colab": {
          "base_uri": "https://localhost:8080/"
        },
        "id": "Kc65yJfi9Q5V",
        "outputId": "17ee20c1-307c-48d6-8dff-485a262240f5"
      },
      "source": [
        "# Create a new tensor with default datatype(float32)\n",
        "B = tf.constant([1.7,2.8])\n",
        "B.dtype"
      ],
      "execution_count": 51,
      "outputs": [
        {
          "output_type": "execute_result",
          "data": {
            "text/plain": [
              "tf.float32"
            ]
          },
          "metadata": {
            "tags": []
          },
          "execution_count": 51
        }
      ]
    },
    {
      "cell_type": "code",
      "metadata": {
        "colab": {
          "base_uri": "https://localhost:8080/"
        },
        "id": "k6fIw4YR9ndn",
        "outputId": "63644aac-8f7e-4046-a8ca-dc31e78717c2"
      },
      "source": [
        "C = tf.constant([7,10])\n",
        "C.dtype"
      ],
      "execution_count": 52,
      "outputs": [
        {
          "output_type": "execute_result",
          "data": {
            "text/plain": [
              "tf.int32"
            ]
          },
          "metadata": {
            "tags": []
          },
          "execution_count": 52
        }
      ]
    },
    {
      "cell_type": "code",
      "metadata": {
        "colab": {
          "base_uri": "https://localhost:8080/"
        },
        "id": "qbUrDEG49syL",
        "outputId": "f534d573-b6ce-48ed-f936-afe8757af09a"
      },
      "source": [
        "# Change from float32 to float16\n",
        "\n",
        "D = tf.cast(B, dtype=tf.float16)\n",
        "D"
      ],
      "execution_count": 53,
      "outputs": [
        {
          "output_type": "execute_result",
          "data": {
            "text/plain": [
              "<tf.Tensor: shape=(2,), dtype=float16, numpy=array([1.7, 2.8], dtype=float16)>"
            ]
          },
          "metadata": {
            "tags": []
          },
          "execution_count": 53
        }
      ]
    },
    {
      "cell_type": "code",
      "metadata": {
        "colab": {
          "base_uri": "https://localhost:8080/"
        },
        "id": "dOjsPKcl-vbv",
        "outputId": "2f644cce-64b3-4ef9-9289-604dc44bd70d"
      },
      "source": [
        "E = tf.cast(C, dtype=tf.float32)\n",
        "E"
      ],
      "execution_count": 54,
      "outputs": [
        {
          "output_type": "execute_result",
          "data": {
            "text/plain": [
              "<tf.Tensor: shape=(2,), dtype=float32, numpy=array([ 7., 10.], dtype=float32)>"
            ]
          },
          "metadata": {
            "tags": []
          },
          "execution_count": 54
        }
      ]
    },
    {
      "cell_type": "markdown",
      "metadata": {
        "id": "HZY0EuWd_QbC"
      },
      "source": [
        "#### Aggregating tensors\n",
        "\n",
        "Aggregating tensor is condensing them from moltiple values down to smaller amount of values"
      ]
    },
    {
      "cell_type": "code",
      "metadata": {
        "id": "ucyNrMop_leq",
        "colab": {
          "base_uri": "https://localhost:8080/"
        },
        "outputId": "06ce546d-60fb-40f4-aebd-cd3fb5300cbd"
      },
      "source": [
        "# Get the absolute values\n",
        "\n",
        "D = tf.constant([-7,-10])\n",
        "D"
      ],
      "execution_count": 60,
      "outputs": [
        {
          "output_type": "execute_result",
          "data": {
            "text/plain": [
              "<tf.Tensor: shape=(2,), dtype=int32, numpy=array([ -7, -10], dtype=int32)>"
            ]
          },
          "metadata": {
            "tags": []
          },
          "execution_count": 60
        }
      ]
    },
    {
      "cell_type": "code",
      "metadata": {
        "colab": {
          "base_uri": "https://localhost:8080/"
        },
        "id": "9KkO3UDxEYGA",
        "outputId": "cb5804df-4e73-4863-8249-cdbed0ddc972"
      },
      "source": [
        "# Get the absolute values\n",
        "tf.abs(D)"
      ],
      "execution_count": 62,
      "outputs": [
        {
          "output_type": "execute_result",
          "data": {
            "text/plain": [
              "<tf.Tensor: shape=(2,), dtype=int32, numpy=array([ 7, 10], dtype=int32)>"
            ]
          },
          "metadata": {
            "tags": []
          },
          "execution_count": 62
        }
      ]
    },
    {
      "cell_type": "markdown",
      "metadata": {
        "id": "4oz4P9xCEgD8"
      },
      "source": [
        "Let's go through the following forms of aggregation:\n",
        "* Get the minimum\n",
        "* Get the maximum\n",
        "* Get the mean of a tensor\n",
        "* Get the sum of a tensor"
      ]
    },
    {
      "cell_type": "code",
      "metadata": {
        "colab": {
          "base_uri": "https://localhost:8080/"
        },
        "id": "Pxgo9Iy_FEb3",
        "outputId": "f1ec9957-15df-431e-e3a5-4475b98e88be"
      },
      "source": [
        "# Creating a random tensor with value between 0 and 100 of size 50\n",
        "E = tf.constant(np.random.randint(1,100,size=50))\n",
        "E"
      ],
      "execution_count": 70,
      "outputs": [
        {
          "output_type": "execute_result",
          "data": {
            "text/plain": [
              "<tf.Tensor: shape=(50,), dtype=int64, numpy=\n",
              "array([17, 60, 10, 59, 99, 98, 93, 30, 13, 79, 24, 56, 60, 25, 56, 75, 23,\n",
              "       83, 82, 60, 31, 13, 28, 53, 86, 38, 57,  2, 62, 71, 65, 47, 29, 63,\n",
              "       61, 74, 67, 51, 90, 12, 44, 62, 57, 36, 96, 94, 71, 30, 28, 28])>"
            ]
          },
          "metadata": {
            "tags": []
          },
          "execution_count": 70
        }
      ]
    },
    {
      "cell_type": "code",
      "metadata": {
        "colab": {
          "base_uri": "https://localhost:8080/"
        },
        "id": "usFLwK3PFbuu",
        "outputId": "9674ce49-fca2-4c96-a6ea-1da4c534d8f4"
      },
      "source": [
        "tf.size(E), E.shape, E.ndim"
      ],
      "execution_count": 71,
      "outputs": [
        {
          "output_type": "execute_result",
          "data": {
            "text/plain": [
              "(<tf.Tensor: shape=(), dtype=int32, numpy=50>, TensorShape([50]), 1)"
            ]
          },
          "metadata": {
            "tags": []
          },
          "execution_count": 71
        }
      ]
    },
    {
      "cell_type": "code",
      "metadata": {
        "colab": {
          "base_uri": "https://localhost:8080/"
        },
        "id": "TWv6GhFpFlrY",
        "outputId": "8d05a585-d87b-4fae-c4e5-c777ab7c3500"
      },
      "source": [
        "# Find the minimum\n",
        "tf.reduce_min(E)"
      ],
      "execution_count": 72,
      "outputs": [
        {
          "output_type": "execute_result",
          "data": {
            "text/plain": [
              "<tf.Tensor: shape=(), dtype=int64, numpy=2>"
            ]
          },
          "metadata": {
            "tags": []
          },
          "execution_count": 72
        }
      ]
    },
    {
      "cell_type": "code",
      "metadata": {
        "colab": {
          "base_uri": "https://localhost:8080/"
        },
        "id": "BVekkr_nF3JJ",
        "outputId": "3d3a7b76-e320-4235-bbb0-3ec6c38d1b3c"
      },
      "source": [
        "tf.reduce_max(E)"
      ],
      "execution_count": 73,
      "outputs": [
        {
          "output_type": "execute_result",
          "data": {
            "text/plain": [
              "<tf.Tensor: shape=(), dtype=int64, numpy=99>"
            ]
          },
          "metadata": {
            "tags": []
          },
          "execution_count": 73
        }
      ]
    },
    {
      "cell_type": "code",
      "metadata": {
        "colab": {
          "base_uri": "https://localhost:8080/"
        },
        "id": "MbjlzdX4F8UN",
        "outputId": "ae71e4cb-f470-4d0f-c8a3-bc4622984c45"
      },
      "source": [
        "tf.reduce_mean(E)"
      ],
      "execution_count": 74,
      "outputs": [
        {
          "output_type": "execute_result",
          "data": {
            "text/plain": [
              "<tf.Tensor: shape=(), dtype=int64, numpy=52>"
            ]
          },
          "metadata": {
            "tags": []
          },
          "execution_count": 74
        }
      ]
    },
    {
      "cell_type": "code",
      "metadata": {
        "colab": {
          "base_uri": "https://localhost:8080/"
        },
        "id": "GJm4EZD_F_wp",
        "outputId": "bacca8c8-9d02-4b3f-cfad-0b25183d0281"
      },
      "source": [
        "tf.reduce_sum(E)"
      ],
      "execution_count": 75,
      "outputs": [
        {
          "output_type": "execute_result",
          "data": {
            "text/plain": [
              "<tf.Tensor: shape=(), dtype=int64, numpy=2648>"
            ]
          },
          "metadata": {
            "tags": []
          },
          "execution_count": 75
        }
      ]
    },
    {
      "cell_type": "code",
      "metadata": {
        "colab": {
          "base_uri": "https://localhost:8080/"
        },
        "id": "bmZGoORGGHJd",
        "outputId": "b4ea5df7-309f-4ff3-d964-6e8f6b95e7ee"
      },
      "source": [
        "tf.reduce_prod(E)"
      ],
      "execution_count": 76,
      "outputs": [
        {
          "output_type": "execute_result",
          "data": {
            "text/plain": [
              "<tf.Tensor: shape=(), dtype=int64, numpy=8305095109708349440>"
            ]
          },
          "metadata": {
            "tags": []
          },
          "execution_count": 76
        }
      ]
    },
    {
      "cell_type": "code",
      "metadata": {
        "colab": {
          "base_uri": "https://localhost:8080/"
        },
        "id": "wIsiL57hGMt0",
        "outputId": "5df74bc2-45b8-4e23-978f-3d6b5e407940"
      },
      "source": [
        "mean_E = tf.reduce_sum(E)/tf.size(E).numpy()\n",
        "mean_E"
      ],
      "execution_count": 81,
      "outputs": [
        {
          "output_type": "execute_result",
          "data": {
            "text/plain": [
              "<tf.Tensor: shape=(), dtype=float64, numpy=52.96>"
            ]
          },
          "metadata": {
            "tags": []
          },
          "execution_count": 81
        }
      ]
    },
    {
      "cell_type": "code",
      "metadata": {
        "colab": {
          "base_uri": "https://localhost:8080/"
        },
        "id": "HNcG8-zfIV7y",
        "outputId": "cd6b4716-ffe6-4eed-a3e8-892c49e3ba38"
      },
      "source": [
        "tf.reduce_mean(E)"
      ],
      "execution_count": 82,
      "outputs": [
        {
          "output_type": "execute_result",
          "data": {
            "text/plain": [
              "<tf.Tensor: shape=(), dtype=int64, numpy=52>"
            ]
          },
          "metadata": {
            "tags": []
          },
          "execution_count": 82
        }
      ]
    },
    {
      "cell_type": "code",
      "metadata": {
        "colab": {
          "base_uri": "https://localhost:8080/"
        },
        "id": "gsLMNpV7JIj_",
        "outputId": "0c0dc89b-2a90-41da-991a-7f09c9e736d7"
      },
      "source": [
        "tf.math.reduce_variance(tf.cast(E,dtype=tf.float32))"
      ],
      "execution_count": 91,
      "outputs": [
        {
          "output_type": "execute_result",
          "data": {
            "text/plain": [
              "<tf.Tensor: shape=(), dtype=float32, numpy=687.9584>"
            ]
          },
          "metadata": {
            "tags": []
          },
          "execution_count": 91
        }
      ]
    },
    {
      "cell_type": "code",
      "metadata": {
        "colab": {
          "base_uri": "https://localhost:8080/"
        },
        "id": "lJ4TKArzJYuR",
        "outputId": "36ebb689-3849-461c-c99d-311b7e08e02b"
      },
      "source": [
        "tf.math.reduce_std(tf.cast(E, dtype=tf.float32)).numpy()"
      ],
      "execution_count": 92,
      "outputs": [
        {
          "output_type": "execute_result",
          "data": {
            "text/plain": [
              "26.22896"
            ]
          },
          "metadata": {
            "tags": []
          },
          "execution_count": 92
        }
      ]
    },
    {
      "cell_type": "markdown",
      "metadata": {
        "id": "twAKlOehLdyf"
      },
      "source": [
        "#### Find the positional maximum and minimum"
      ]
    },
    {
      "cell_type": "code",
      "metadata": {
        "colab": {
          "base_uri": "https://localhost:8080/"
        },
        "id": "kqKrXS4zL44P",
        "outputId": "25ab5812-6d65-4a74-aa36-6d1b8b5d5f47"
      },
      "source": [
        "# Create a new Tensor\n",
        "tf.random.set_seed(42)\n",
        "F = tf.random.uniform(shape=[50])\n",
        "F"
      ],
      "execution_count": 108,
      "outputs": [
        {
          "output_type": "execute_result",
          "data": {
            "text/plain": [
              "<tf.Tensor: shape=(50,), dtype=float32, numpy=\n",
              "array([0.6645621 , 0.44100678, 0.3528825 , 0.46448255, 0.03366041,\n",
              "       0.68467236, 0.74011743, 0.8724445 , 0.22632635, 0.22319686,\n",
              "       0.3103881 , 0.7223358 , 0.13318717, 0.5480639 , 0.5746088 ,\n",
              "       0.8996835 , 0.00946367, 0.5212307 , 0.6345445 , 0.1993283 ,\n",
              "       0.72942245, 0.54583454, 0.10756552, 0.6767061 , 0.6602763 ,\n",
              "       0.33695042, 0.60141766, 0.21062577, 0.8527372 , 0.44062173,\n",
              "       0.9485276 , 0.23752594, 0.81179297, 0.5263394 , 0.494308  ,\n",
              "       0.21612847, 0.8457197 , 0.8718841 , 0.3083862 , 0.6868038 ,\n",
              "       0.23764038, 0.7817228 , 0.9671384 , 0.06870162, 0.79873943,\n",
              "       0.66028714, 0.5871513 , 0.16461694, 0.7381023 , 0.32054043],\n",
              "      dtype=float32)>"
            ]
          },
          "metadata": {
            "tags": []
          },
          "execution_count": 108
        }
      ]
    },
    {
      "cell_type": "code",
      "metadata": {
        "colab": {
          "base_uri": "https://localhost:8080/"
        },
        "id": "15i1NuiPNxUd",
        "outputId": "7677db4e-c2d1-4097-f8e8-bb6865792428"
      },
      "source": [
        "# Find the positional maximum\n",
        "tf.argmax(F)"
      ],
      "execution_count": 109,
      "outputs": [
        {
          "output_type": "execute_result",
          "data": {
            "text/plain": [
              "<tf.Tensor: shape=(), dtype=int64, numpy=42>"
            ]
          },
          "metadata": {
            "tags": []
          },
          "execution_count": 109
        }
      ]
    },
    {
      "cell_type": "code",
      "metadata": {
        "colab": {
          "base_uri": "https://localhost:8080/"
        },
        "id": "SCiolKnxOYDJ",
        "outputId": "eabde124-9f38-4212-b668-40301f34248e"
      },
      "source": [
        "F[tf.argmax(F)]"
      ],
      "execution_count": 110,
      "outputs": [
        {
          "output_type": "execute_result",
          "data": {
            "text/plain": [
              "<tf.Tensor: shape=(), dtype=float32, numpy=0.9671384>"
            ]
          },
          "metadata": {
            "tags": []
          },
          "execution_count": 110
        }
      ]
    },
    {
      "cell_type": "code",
      "metadata": {
        "colab": {
          "base_uri": "https://localhost:8080/"
        },
        "id": "d076U3UkOp2C",
        "outputId": "cf966fb6-9ba4-4485-8260-38f3386d00c7"
      },
      "source": [
        "F[tf.argmin(F)]"
      ],
      "execution_count": 111,
      "outputs": [
        {
          "output_type": "execute_result",
          "data": {
            "text/plain": [
              "<tf.Tensor: shape=(), dtype=float32, numpy=0.009463668>"
            ]
          },
          "metadata": {
            "tags": []
          },
          "execution_count": 111
        }
      ]
    },
    {
      "cell_type": "code",
      "metadata": {
        "colab": {
          "base_uri": "https://localhost:8080/"
        },
        "id": "Crsk-hpVQgeX",
        "outputId": "5182e18c-b8c3-433c-e7be-267776dba938"
      },
      "source": [
        "#### Squeezing a tensor (removing all single dimensions)\n",
        "tf.random.set_seed(42)\n",
        "G = tf.constant(tf.random.uniform(shape=[50]), shape=(1,1,1,1,50))\n",
        "G"
      ],
      "execution_count": 113,
      "outputs": [
        {
          "output_type": "execute_result",
          "data": {
            "text/plain": [
              "<tf.Tensor: shape=(1, 1, 1, 1, 50), dtype=float32, numpy=\n",
              "array([[[[[0.6645621 , 0.44100678, 0.3528825 , 0.46448255, 0.03366041,\n",
              "           0.68467236, 0.74011743, 0.8724445 , 0.22632635, 0.22319686,\n",
              "           0.3103881 , 0.7223358 , 0.13318717, 0.5480639 , 0.5746088 ,\n",
              "           0.8996835 , 0.00946367, 0.5212307 , 0.6345445 , 0.1993283 ,\n",
              "           0.72942245, 0.54583454, 0.10756552, 0.6767061 , 0.6602763 ,\n",
              "           0.33695042, 0.60141766, 0.21062577, 0.8527372 , 0.44062173,\n",
              "           0.9485276 , 0.23752594, 0.81179297, 0.5263394 , 0.494308  ,\n",
              "           0.21612847, 0.8457197 , 0.8718841 , 0.3083862 , 0.6868038 ,\n",
              "           0.23764038, 0.7817228 , 0.9671384 , 0.06870162, 0.79873943,\n",
              "           0.66028714, 0.5871513 , 0.16461694, 0.7381023 , 0.32054043]]]]],\n",
              "      dtype=float32)>"
            ]
          },
          "metadata": {
            "tags": []
          },
          "execution_count": 113
        }
      ]
    },
    {
      "cell_type": "code",
      "metadata": {
        "colab": {
          "base_uri": "https://localhost:8080/"
        },
        "id": "F3baj1b5RS-j",
        "outputId": "bac48697-f495-4ee7-8307-82926f8cb6c2"
      },
      "source": [
        "G.shape"
      ],
      "execution_count": 114,
      "outputs": [
        {
          "output_type": "execute_result",
          "data": {
            "text/plain": [
              "TensorShape([1, 1, 1, 1, 50])"
            ]
          },
          "metadata": {
            "tags": []
          },
          "execution_count": 114
        }
      ]
    },
    {
      "cell_type": "code",
      "metadata": {
        "colab": {
          "base_uri": "https://localhost:8080/"
        },
        "id": "LV6L-QLORjPz",
        "outputId": "49731e3a-9012-4461-90b6-05c3cf8be218"
      },
      "source": [
        "G_squeezed = tf.squeeze(G)\n",
        "G_squeezed"
      ],
      "execution_count": 115,
      "outputs": [
        {
          "output_type": "execute_result",
          "data": {
            "text/plain": [
              "<tf.Tensor: shape=(50,), dtype=float32, numpy=\n",
              "array([0.6645621 , 0.44100678, 0.3528825 , 0.46448255, 0.03366041,\n",
              "       0.68467236, 0.74011743, 0.8724445 , 0.22632635, 0.22319686,\n",
              "       0.3103881 , 0.7223358 , 0.13318717, 0.5480639 , 0.5746088 ,\n",
              "       0.8996835 , 0.00946367, 0.5212307 , 0.6345445 , 0.1993283 ,\n",
              "       0.72942245, 0.54583454, 0.10756552, 0.6767061 , 0.6602763 ,\n",
              "       0.33695042, 0.60141766, 0.21062577, 0.8527372 , 0.44062173,\n",
              "       0.9485276 , 0.23752594, 0.81179297, 0.5263394 , 0.494308  ,\n",
              "       0.21612847, 0.8457197 , 0.8718841 , 0.3083862 , 0.6868038 ,\n",
              "       0.23764038, 0.7817228 , 0.9671384 , 0.06870162, 0.79873943,\n",
              "       0.66028714, 0.5871513 , 0.16461694, 0.7381023 , 0.32054043],\n",
              "      dtype=float32)>"
            ]
          },
          "metadata": {
            "tags": []
          },
          "execution_count": 115
        }
      ]
    },
    {
      "cell_type": "markdown",
      "metadata": {
        "id": "TRJEST0rRr3K"
      },
      "source": [
        "#### One hot encoding\n"
      ]
    },
    {
      "cell_type": "code",
      "metadata": {
        "colab": {
          "base_uri": "https://localhost:8080/"
        },
        "id": "Tu-GRRISSXIz",
        "outputId": "fccf05ea-e3d2-4a34-f0c9-3265425acdef"
      },
      "source": [
        "# Create a list of indices\n",
        "some_list = [0,1,2,3] # Could be red, green, blue, purple\n",
        "\n",
        "# One-Hot encode our some_list\n",
        "tf.one_hot(some_list, depth=4)"
      ],
      "execution_count": 117,
      "outputs": [
        {
          "output_type": "execute_result",
          "data": {
            "text/plain": [
              "<tf.Tensor: shape=(4, 4), dtype=float32, numpy=\n",
              "array([[1., 0., 0., 0.],\n",
              "       [0., 1., 0., 0.],\n",
              "       [0., 0., 1., 0.],\n",
              "       [0., 0., 0., 1.]], dtype=float32)>"
            ]
          },
          "metadata": {
            "tags": []
          },
          "execution_count": 117
        }
      ]
    },
    {
      "cell_type": "code",
      "metadata": {
        "colab": {
          "base_uri": "https://localhost:8080/"
        },
        "id": "MMe-VF3ITSUK",
        "outputId": "86d4cb09-5d3d-440a-fb61-fdbf06ef298f"
      },
      "source": [
        "# Specify Custom value for one-hot encoding\n",
        "tf.one_hot(some_list, depth=4, on_value=True, off_value=False)"
      ],
      "execution_count": 118,
      "outputs": [
        {
          "output_type": "execute_result",
          "data": {
            "text/plain": [
              "<tf.Tensor: shape=(4, 4), dtype=bool, numpy=\n",
              "array([[ True, False, False, False],\n",
              "       [False,  True, False, False],\n",
              "       [False, False,  True, False],\n",
              "       [False, False, False,  True]])>"
            ]
          },
          "metadata": {
            "tags": []
          },
          "execution_count": 118
        }
      ]
    },
    {
      "cell_type": "code",
      "metadata": {
        "colab": {
          "base_uri": "https://localhost:8080/"
        },
        "id": "JyELxUZKT_cQ",
        "outputId": "860beb39-2547-4cff-be27-bf006294437e"
      },
      "source": [
        "test_list = [1,4,5,2,7]\n",
        "tf.one_hot(test_list, depth=8)"
      ],
      "execution_count": 126,
      "outputs": [
        {
          "output_type": "execute_result",
          "data": {
            "text/plain": [
              "<tf.Tensor: shape=(5, 8), dtype=float32, numpy=\n",
              "array([[0., 1., 0., 0., 0., 0., 0., 0.],\n",
              "       [0., 0., 0., 0., 1., 0., 0., 0.],\n",
              "       [0., 0., 0., 0., 0., 1., 0., 0.],\n",
              "       [0., 0., 1., 0., 0., 0., 0., 0.],\n",
              "       [0., 0., 0., 0., 0., 0., 0., 1.]], dtype=float32)>"
            ]
          },
          "metadata": {
            "tags": []
          },
          "execution_count": 126
        }
      ]
    },
    {
      "cell_type": "markdown",
      "metadata": {
        "id": "q9pPAw_CU5JW"
      },
      "source": [
        "#### Squaring, Log, Square root"
      ]
    },
    {
      "cell_type": "code",
      "metadata": {
        "colab": {
          "base_uri": "https://localhost:8080/"
        },
        "id": "01WQIk6jVJKl",
        "outputId": "72fa4aba-78c2-4daf-f0e4-9b72a720bcfc"
      },
      "source": [
        "# Create a new tensor\n",
        "H = tf.range(1,10)\n",
        "H"
      ],
      "execution_count": 127,
      "outputs": [
        {
          "output_type": "execute_result",
          "data": {
            "text/plain": [
              "<tf.Tensor: shape=(9,), dtype=int32, numpy=array([1, 2, 3, 4, 5, 6, 7, 8, 9], dtype=int32)>"
            ]
          },
          "metadata": {
            "tags": []
          },
          "execution_count": 127
        }
      ]
    },
    {
      "cell_type": "code",
      "metadata": {
        "colab": {
          "base_uri": "https://localhost:8080/"
        },
        "id": "NowJPyj3Y4GS",
        "outputId": "bc1b2cc5-c5d0-45f9-fd09-7198474ab07f"
      },
      "source": [
        "# Square it\n",
        "tf.square(H)"
      ],
      "execution_count": 128,
      "outputs": [
        {
          "output_type": "execute_result",
          "data": {
            "text/plain": [
              "<tf.Tensor: shape=(9,), dtype=int32, numpy=array([ 1,  4,  9, 16, 25, 36, 49, 64, 81], dtype=int32)>"
            ]
          },
          "metadata": {
            "tags": []
          },
          "execution_count": 128
        }
      ]
    },
    {
      "cell_type": "code",
      "metadata": {
        "colab": {
          "base_uri": "https://localhost:8080/"
        },
        "id": "vSA_8nPUZAXG",
        "outputId": "326cbd4b-6500-4672-ff74-ae22bfee9f74"
      },
      "source": [
        "# Square root\n",
        "tf.math.sqrt(tf.cast(H,dtype=tf.float32))"
      ],
      "execution_count": 133,
      "outputs": [
        {
          "output_type": "execute_result",
          "data": {
            "text/plain": [
              "<tf.Tensor: shape=(9,), dtype=float32, numpy=\n",
              "array([0.99999994, 1.4142134 , 1.7320508 , 1.9999999 , 2.236068  ,\n",
              "       2.4494896 , 2.6457512 , 2.8284268 , 3.        ], dtype=float32)>"
            ]
          },
          "metadata": {
            "tags": []
          },
          "execution_count": 133
        }
      ]
    },
    {
      "cell_type": "code",
      "metadata": {
        "colab": {
          "base_uri": "https://localhost:8080/"
        },
        "id": "pDaks6lGZKm-",
        "outputId": "b2f8f228-703e-4874-942b-6929fbba2d29"
      },
      "source": [
        "# Find the log\n",
        "tf.math.log(tf.cast(H,tf.float32))"
      ],
      "execution_count": 136,
      "outputs": [
        {
          "output_type": "execute_result",
          "data": {
            "text/plain": [
              "<tf.Tensor: shape=(9,), dtype=float32, numpy=\n",
              "array([0.       , 0.6931472, 1.0986123, 1.3862944, 1.609438 , 1.7917595,\n",
              "       1.9459102, 2.0794415, 2.1972246], dtype=float32)>"
            ]
          },
          "metadata": {
            "tags": []
          },
          "execution_count": 136
        }
      ]
    },
    {
      "cell_type": "markdown",
      "metadata": {
        "id": "-j3XkN7cZhic"
      },
      "source": [
        "## Tensors and NumPy\n",
        "TensorFlow interacts beutifully with numpy array."
      ]
    },
    {
      "cell_type": "code",
      "metadata": {
        "colab": {
          "base_uri": "https://localhost:8080/"
        },
        "id": "A7jqBEFraFAE",
        "outputId": "7d1223c7-29f4-47ec-a8d4-0ff13d80fc34"
      },
      "source": [
        " # Create a tensor directly from a NumPy array\n",
        " J = tf.constant(np.array([3.,7.,10]))\n",
        " J"
      ],
      "execution_count": 137,
      "outputs": [
        {
          "output_type": "execute_result",
          "data": {
            "text/plain": [
              "<tf.Tensor: shape=(3,), dtype=float64, numpy=array([ 3.,  7., 10.])>"
            ]
          },
          "metadata": {
            "tags": []
          },
          "execution_count": 137
        }
      ]
    },
    {
      "cell_type": "code",
      "metadata": {
        "colab": {
          "base_uri": "https://localhost:8080/"
        },
        "id": "9vVVZn4nek_H",
        "outputId": "47ff1298-85f4-417a-87ce-7db7393be8f6"
      },
      "source": [
        "# Convert tensor back to NumPy array\n",
        "np.array(J), type(np.array(J))"
      ],
      "execution_count": 138,
      "outputs": [
        {
          "output_type": "execute_result",
          "data": {
            "text/plain": [
              "(array([ 3.,  7., 10.]), numpy.ndarray)"
            ]
          },
          "metadata": {
            "tags": []
          },
          "execution_count": 138
        }
      ]
    },
    {
      "cell_type": "code",
      "metadata": {
        "colab": {
          "base_uri": "https://localhost:8080/"
        },
        "id": "P3eqX3A7e2gl",
        "outputId": "c8ecce50-1d83-427a-c791-c1dc531c0111"
      },
      "source": [
        "J.numpy()"
      ],
      "execution_count": 139,
      "outputs": [
        {
          "output_type": "execute_result",
          "data": {
            "text/plain": [
              "array([ 3.,  7., 10.])"
            ]
          },
          "metadata": {
            "tags": []
          },
          "execution_count": 139
        }
      ]
    },
    {
      "cell_type": "code",
      "metadata": {
        "colab": {
          "base_uri": "https://localhost:8080/"
        },
        "id": "CKdtZAoffBtL",
        "outputId": "dc9e2dad-94d7-48a2-e274-0d6c4d66c7c9"
      },
      "source": [
        "# The default types of each are slightly different\n",
        "numpy_J = tf.constant(np.array([3.,7.,10.]))\n",
        "tensor_J = tf.constant([3.,7.,10.])\n",
        "\n",
        "# Check the datatypes of each\n",
        "numpy_J.dtype, tensor_J.dtype"
      ],
      "execution_count": 142,
      "outputs": [
        {
          "output_type": "execute_result",
          "data": {
            "text/plain": [
              "(tf.float64, tf.float32)"
            ]
          },
          "metadata": {
            "tags": []
          },
          "execution_count": 142
        }
      ]
    },
    {
      "cell_type": "markdown",
      "metadata": {
        "id": "e5673-I8fLT5"
      },
      "source": [
        "# Extras and Co-curriculum"
      ]
    },
    {
      "cell_type": "markdown",
      "metadata": {
        "id": "H49pUzFXn9Ge"
      },
      "source": [
        "## Exercise"
      ]
    },
    {
      "cell_type": "markdown",
      "metadata": {
        "id": "RnoOCGRmg2wD"
      },
      "source": [
        "1. Create a vector, scalar, matrix and tensor with values of your choosing using `tf.constant()`"
      ]
    },
    {
      "cell_type": "code",
      "metadata": {
        "colab": {
          "base_uri": "https://localhost:8080/"
        },
        "id": "g0zoD4IZg_v4",
        "outputId": "7cb6b09d-0163-466f-fbd7-7ea58245c7c3"
      },
      "source": [
        "scalar_E = tf.constant(1)\n",
        "scalar_E, scalar_E.ndim"
      ],
      "execution_count": 145,
      "outputs": [
        {
          "output_type": "execute_result",
          "data": {
            "text/plain": [
              "(<tf.Tensor: shape=(), dtype=int32, numpy=1>, 0)"
            ]
          },
          "metadata": {
            "tags": []
          },
          "execution_count": 145
        }
      ]
    },
    {
      "cell_type": "code",
      "metadata": {
        "colab": {
          "base_uri": "https://localhost:8080/"
        },
        "id": "SuWOKaEIhNQ7",
        "outputId": "b74fcc18-f2f3-4543-c945-0f707d83c022"
      },
      "source": [
        "vector_E = tf.constant([3,7,10])\n",
        "vector_E, vector_E.ndim"
      ],
      "execution_count": 146,
      "outputs": [
        {
          "output_type": "execute_result",
          "data": {
            "text/plain": [
              "(<tf.Tensor: shape=(3,), dtype=int32, numpy=array([ 3,  7, 10], dtype=int32)>,\n",
              " 1)"
            ]
          },
          "metadata": {
            "tags": []
          },
          "execution_count": 146
        }
      ]
    },
    {
      "cell_type": "code",
      "metadata": {
        "colab": {
          "base_uri": "https://localhost:8080/"
        },
        "id": "cksjaaZThXeZ",
        "outputId": "f9b77767-490e-4ae4-e3c9-855269f3f20c"
      },
      "source": [
        "matrix_E = tf.constant([[1,2,3],\n",
        "                        [4,5,6]])\n",
        "matrix_E, matrix_E.ndim"
      ],
      "execution_count": 147,
      "outputs": [
        {
          "output_type": "execute_result",
          "data": {
            "text/plain": [
              "(<tf.Tensor: shape=(2, 3), dtype=int32, numpy=\n",
              " array([[1, 2, 3],\n",
              "        [4, 5, 6]], dtype=int32)>, 2)"
            ]
          },
          "metadata": {
            "tags": []
          },
          "execution_count": 147
        }
      ]
    },
    {
      "cell_type": "code",
      "metadata": {
        "colab": {
          "base_uri": "https://localhost:8080/"
        },
        "id": "P-XrAphXhra1",
        "outputId": "365c64cb-9a11-4b0c-cf28-c7ee82356f2d"
      },
      "source": [
        "tensor_E = tf.constant([[[1,2,3],\n",
        "                        [4,5,6]],\n",
        "                        \n",
        "                        [[1,2,3],\n",
        "                         [4,5,6]]])\n",
        "tensor_E, tensor_E.ndim"
      ],
      "execution_count": 148,
      "outputs": [
        {
          "output_type": "execute_result",
          "data": {
            "text/plain": [
              "(<tf.Tensor: shape=(2, 2, 3), dtype=int32, numpy=\n",
              " array([[[1, 2, 3],\n",
              "         [4, 5, 6]],\n",
              " \n",
              "        [[1, 2, 3],\n",
              "         [4, 5, 6]]], dtype=int32)>, 3)"
            ]
          },
          "metadata": {
            "tags": []
          },
          "execution_count": 148
        }
      ]
    },
    {
      "cell_type": "markdown",
      "metadata": {
        "id": "49NZjlNQiLGn"
      },
      "source": [
        "2. Find the shape, rank and size of the tensors you created in 1"
      ]
    },
    {
      "cell_type": "code",
      "metadata": {
        "colab": {
          "base_uri": "https://localhost:8080/"
        },
        "id": "gQ5POtd2ijQQ",
        "outputId": "bea0fdeb-f71f-4204-8246-8e48f893ca3c"
      },
      "source": [
        "print(scalar_E.shape, scalar_E.ndim, tf.size(scalar_E),'\\n')\n",
        "print(vector_E.shape, vector_E.ndim, tf.size(vector_E),'\\n')\n",
        "print(matrix_E.shape, matrix_E.ndim, tf.size(matrix_E),'\\n')\n",
        "print(tensor_E.shape, tensor_E.ndim, tf.size(tensor_E),'\\n')"
      ],
      "execution_count": 150,
      "outputs": [
        {
          "output_type": "stream",
          "text": [
            "() 0 tf.Tensor(1, shape=(), dtype=int32) \n",
            "\n",
            "(3,) 1 tf.Tensor(3, shape=(), dtype=int32) \n",
            "\n",
            "(2, 3) 2 tf.Tensor(6, shape=(), dtype=int32) \n",
            "\n",
            "(2, 2, 3) 3 tf.Tensor(12, shape=(), dtype=int32) \n",
            "\n"
          ],
          "name": "stdout"
        }
      ]
    },
    {
      "cell_type": "markdown",
      "metadata": {
        "id": "-Tawphg-jWQT"
      },
      "source": [
        "3. Create two tensors containing random values between 0 and 1 with shape `[5, 300]`"
      ]
    },
    {
      "cell_type": "code",
      "metadata": {
        "colab": {
          "base_uri": "https://localhost:8080/"
        },
        "id": "YyS69OjojxFl",
        "outputId": "4558c9ac-8ac0-4d23-ae85-3d67cf607d86"
      },
      "source": [
        "#tf.random.set_seed(7)\n",
        "random_1_E = tf.random.uniform([5,300])\n",
        "random_2_E = tf.random.uniform([5,300])\n",
        "random_1_E, random_2_E"
      ],
      "execution_count": 151,
      "outputs": [
        {
          "output_type": "execute_result",
          "data": {
            "text/plain": [
              "(<tf.Tensor: shape=(5, 300), dtype=float32, numpy=\n",
              " array([[0.68789124, 0.48447883, 0.9309944 , ..., 0.6920762 , 0.33180213,\n",
              "         0.9212563 ],\n",
              "        [0.27369928, 0.10631859, 0.6218617 , ..., 0.4382149 , 0.30427706,\n",
              "         0.51477313],\n",
              "        [0.00920248, 0.37280262, 0.8177401 , ..., 0.56786287, 0.49201214,\n",
              "         0.9892651 ],\n",
              "        [0.88608265, 0.08672249, 0.12160683, ..., 0.91770685, 0.72545695,\n",
              "         0.8280058 ],\n",
              "        [0.36690474, 0.9200133 , 0.9646884 , ..., 0.69012   , 0.7137332 ,\n",
              "         0.2584542 ]], dtype=float32)>,\n",
              " <tf.Tensor: shape=(5, 300), dtype=float32, numpy=\n",
              " array([[0.7413678 , 0.62854624, 0.01738465, ..., 0.4851334 , 0.21059811,\n",
              "         0.25082767],\n",
              "        [0.10842848, 0.48783147, 0.8240961 , ..., 0.9204427 , 0.36046863,\n",
              "         0.28176582],\n",
              "        [0.7326695 , 0.46489418, 0.13622475, ..., 0.28130388, 0.63987684,\n",
              "         0.9987265 ],\n",
              "        [0.01447165, 0.7845044 , 0.33475304, ..., 0.56194997, 0.0209924 ,\n",
              "         0.1740731 ],\n",
              "        [0.90936875, 0.19861352, 0.9481231 , ..., 0.3573054 , 0.13161755,\n",
              "         0.22565222]], dtype=float32)>)"
            ]
          },
          "metadata": {
            "tags": []
          },
          "execution_count": 151
        }
      ]
    },
    {
      "cell_type": "markdown",
      "metadata": {
        "id": "g35zgJlPkY0I"
      },
      "source": [
        "4. Multiply the two tensors you created in 3 using matrix multiplication"
      ]
    },
    {
      "cell_type": "code",
      "metadata": {
        "colab": {
          "base_uri": "https://localhost:8080/"
        },
        "id": "UO477fp7kif1",
        "outputId": "ba717036-2397-499b-dcef-75926c2b162a"
      },
      "source": [
        "tf.matmul(random_1_E,random_2_E, transpose_b=True)"
      ],
      "execution_count": 154,
      "outputs": [
        {
          "output_type": "execute_result",
          "data": {
            "text/plain": [
              "<tf.Tensor: shape=(5, 5), dtype=float32, numpy=\n",
              "array([[75.71401 , 80.87824 , 78.32848 , 78.2597  , 79.130585],\n",
              "       [70.12708 , 72.09945 , 70.1678  , 73.24609 , 74.2774  ],\n",
              "       [75.16001 , 79.52858 , 76.74644 , 78.14265 , 77.28679 ],\n",
              "       [77.11356 , 75.401215, 72.79378 , 75.066376, 75.20653 ],\n",
              "       [79.87285 , 83.40139 , 78.57373 , 79.025894, 81.82093 ]],\n",
              "      dtype=float32)>"
            ]
          },
          "metadata": {
            "tags": []
          },
          "execution_count": 154
        }
      ]
    },
    {
      "cell_type": "markdown",
      "metadata": {
        "id": "Ad2pV64Ckq5t"
      },
      "source": [
        "5. Multiply the two tensors you created in 3 using dot product"
      ]
    },
    {
      "cell_type": "code",
      "metadata": {
        "colab": {
          "base_uri": "https://localhost:8080/"
        },
        "id": "41_U5IDPk6OF",
        "outputId": "e816b2be-32bc-498f-93bb-a38603f2109d"
      },
      "source": [
        "tf.tensordot(random_1_E,tf.transpose(random_2_E), axes=1)"
      ],
      "execution_count": 161,
      "outputs": [
        {
          "output_type": "execute_result",
          "data": {
            "text/plain": [
              "<tf.Tensor: shape=(5, 5), dtype=float32, numpy=\n",
              "array([[75.71401 , 80.87824 , 78.32848 , 78.2597  , 79.130585],\n",
              "       [70.12708 , 72.09945 , 70.1678  , 73.24609 , 74.2774  ],\n",
              "       [75.16001 , 79.52858 , 76.74644 , 78.14265 , 77.28679 ],\n",
              "       [77.11356 , 75.401215, 72.79378 , 75.066376, 75.20653 ],\n",
              "       [79.87285 , 83.40139 , 78.57373 , 79.025894, 81.82093 ]],\n",
              "      dtype=float32)>"
            ]
          },
          "metadata": {
            "tags": []
          },
          "execution_count": 161
        }
      ]
    },
    {
      "cell_type": "markdown",
      "metadata": {
        "id": "Q57NhJdGlAI_"
      },
      "source": [
        "6. Create a tensor with random values between 0 and 1 with shape `[224, 224, 3]`"
      ]
    },
    {
      "cell_type": "code",
      "metadata": {
        "colab": {
          "base_uri": "https://localhost:8080/"
        },
        "id": "DtuPMeqilqqL",
        "outputId": "ac2d1bd1-bcbb-42b1-8331-e683b44a801f"
      },
      "source": [
        "tf.random.set_seed(7)\n",
        "random_3_E = tf.random.uniform([224,224,3])\n",
        "random_3_E"
      ],
      "execution_count": 163,
      "outputs": [
        {
          "output_type": "execute_result",
          "data": {
            "text/plain": [
              "<tf.Tensor: shape=(224, 224, 3), dtype=float32, numpy=\n",
              "array([[[0.8344538 , 0.23336661, 0.8796519 ],\n",
              "        [0.04664922, 0.80349684, 0.9420098 ],\n",
              "        [0.48560476, 0.9596517 , 0.65881574],\n",
              "        ...,\n",
              "        [0.5860318 , 0.48737013, 0.7365041 ],\n",
              "        [0.4669237 , 0.32675016, 0.7892678 ],\n",
              "        [0.06122839, 0.81435096, 0.7064053 ]],\n",
              "\n",
              "       [[0.43275082, 0.26824856, 0.69550574],\n",
              "        [0.8685899 , 0.28069723, 0.39523184],\n",
              "        [0.19567001, 0.40724087, 0.04454517],\n",
              "        ...,\n",
              "        [0.43178904, 0.69221234, 0.2229476 ],\n",
              "        [0.7250947 , 0.3481722 , 0.04613721],\n",
              "        [0.99625635, 0.56748664, 0.5955579 ]],\n",
              "\n",
              "       [[0.56123173, 0.12232518, 0.8995544 ],\n",
              "        [0.33412373, 0.5526645 , 0.19505835],\n",
              "        [0.29208362, 0.15077579, 0.75069475],\n",
              "        ...,\n",
              "        [0.46821463, 0.80908   , 0.17361856],\n",
              "        [0.12702239, 0.2896787 , 0.9261279 ],\n",
              "        [0.40931833, 0.1861794 , 0.4138496 ]],\n",
              "\n",
              "       ...,\n",
              "\n",
              "       [[0.84302187, 0.6846659 , 0.5883076 ],\n",
              "        [0.95439446, 0.77666044, 0.8091644 ],\n",
              "        [0.3613851 , 0.7673439 , 0.90386903],\n",
              "        ...,\n",
              "        [0.9390912 , 0.35435247, 0.6010746 ],\n",
              "        [0.49677217, 0.6813059 , 0.8739872 ],\n",
              "        [0.7110933 , 0.0461179 , 0.24855578]],\n",
              "\n",
              "       [[0.14063287, 0.2984674 , 0.45909464],\n",
              "        [0.839905  , 0.53721964, 0.9453608 ],\n",
              "        [0.75981545, 0.8623053 , 0.11392868],\n",
              "        ...,\n",
              "        [0.81245756, 0.6079143 , 0.09136164],\n",
              "        [0.13567889, 0.44118834, 0.9441104 ],\n",
              "        [0.413154  , 0.74883235, 0.13738215]],\n",
              "\n",
              "       [[0.4020456 , 0.75230145, 0.4832939 ],\n",
              "        [0.8270824 , 0.3412863 , 0.88598824],\n",
              "        [0.57159305, 0.20664465, 0.19643831],\n",
              "        ...,\n",
              "        [0.9153687 , 0.0785898 , 0.59091544],\n",
              "        [0.98276114, 0.9555284 , 0.49222827],\n",
              "        [0.18009567, 0.6607896 , 0.8013692 ]]], dtype=float32)>"
            ]
          },
          "metadata": {
            "tags": []
          },
          "execution_count": 163
        }
      ]
    },
    {
      "cell_type": "markdown",
      "metadata": {
        "id": "rRQ9pxBimIVP"
      },
      "source": [
        "7. Find the min and max values of the tensor you created in 6"
      ]
    },
    {
      "cell_type": "code",
      "metadata": {
        "colab": {
          "base_uri": "https://localhost:8080/"
        },
        "id": "bRR4-8S7mR_R",
        "outputId": "ae3238f6-f1cb-4dd6-cf91-01546ef9b438"
      },
      "source": [
        "tf.reduce_min(random_3_E),tf.reduce_max(random_3_E)"
      ],
      "execution_count": 164,
      "outputs": [
        {
          "output_type": "execute_result",
          "data": {
            "text/plain": [
              "(<tf.Tensor: shape=(), dtype=float32, numpy=5.2452087e-06>,\n",
              " <tf.Tensor: shape=(), dtype=float32, numpy=0.9999931>)"
            ]
          },
          "metadata": {
            "tags": []
          },
          "execution_count": 164
        }
      ]
    },
    {
      "cell_type": "markdown",
      "metadata": {
        "id": "ECwll4NLmdNj"
      },
      "source": [
        "8. Created a tensor with random values of shape `[1, 224, 224, 3]` then squeeze it to change the shape to `[224, 224, 3]`"
      ]
    },
    {
      "cell_type": "code",
      "metadata": {
        "colab": {
          "base_uri": "https://localhost:8080/"
        },
        "id": "amHpDtvsmyM7",
        "outputId": "9d85bd25-5652-49b9-fca1-89273cd53380"
      },
      "source": [
        "random_4_E = tf.random.uniform([1,224,224,3])\n",
        "random_4_E"
      ],
      "execution_count": 166,
      "outputs": [
        {
          "output_type": "execute_result",
          "data": {
            "text/plain": [
              "<tf.Tensor: shape=(1, 224, 224, 3), dtype=float32, numpy=\n",
              "array([[[[1.90534592e-02, 6.49655104e-01, 6.96206927e-01],\n",
              "         [5.50074816e-01, 5.88577747e-01, 2.47053385e-01],\n",
              "         [3.29534411e-01, 1.12019897e-01, 6.46760821e-01],\n",
              "         ...,\n",
              "         [6.05453014e-01, 2.26416945e-01, 1.02378845e-01],\n",
              "         [3.78343225e-01, 5.46195269e-01, 3.60101581e-01],\n",
              "         [2.96108603e-01, 1.42966509e-02, 3.71624827e-01]],\n",
              "\n",
              "        [[3.70490432e-01, 9.95367646e-01, 3.14680219e-01],\n",
              "         [9.76846576e-01, 1.33267164e-01, 9.98384356e-01],\n",
              "         [7.33183861e-01, 5.36768556e-01, 4.62296009e-02],\n",
              "         ...,\n",
              "         [1.98324561e-01, 6.40800714e-01, 5.96124768e-01],\n",
              "         [1.88073635e-01, 9.70675111e-01, 5.17419577e-01],\n",
              "         [9.79518294e-01, 5.51191568e-02, 9.73463058e-04]],\n",
              "\n",
              "        [[6.49672747e-02, 4.38274741e-01, 5.81417084e-02],\n",
              "         [3.69277596e-01, 9.35164690e-01, 4.71378088e-01],\n",
              "         [2.00963020e-01, 7.59706616e-01, 2.72475958e-01],\n",
              "         ...,\n",
              "         [3.64496350e-01, 8.07347417e-01, 4.90338802e-01],\n",
              "         [9.33710098e-01, 2.10287213e-01, 6.31319761e-01],\n",
              "         [5.42043447e-01, 3.38572502e-01, 7.23318100e-01]],\n",
              "\n",
              "        ...,\n",
              "\n",
              "        [[4.81556773e-01, 5.16923666e-01, 8.64600778e-01],\n",
              "         [9.73374486e-01, 8.96432757e-01, 4.39383268e-01],\n",
              "         [7.78042078e-02, 5.42834997e-01, 7.47769713e-01],\n",
              "         ...,\n",
              "         [8.78274918e-01, 6.46520853e-01, 4.31462526e-02],\n",
              "         [7.38288164e-01, 3.74558806e-01, 5.32416701e-01],\n",
              "         [6.90445900e-02, 4.52709317e-01, 4.55619335e-01]],\n",
              "\n",
              "        [[9.99977589e-02, 1.50644183e-01, 9.67985153e-01],\n",
              "         [2.97249556e-02, 6.09287262e-01, 4.54847932e-01],\n",
              "         [3.26780796e-01, 8.68590832e-01, 4.84599233e-01],\n",
              "         ...,\n",
              "         [3.17003965e-01, 1.58029556e-01, 9.73931313e-01],\n",
              "         [1.18602395e-01, 3.28178406e-01, 6.81946278e-01],\n",
              "         [9.59028006e-02, 4.57908988e-01, 8.30338717e-01]],\n",
              "\n",
              "        [[5.07559061e-01, 8.79403353e-01, 4.00209308e-01],\n",
              "         [8.69946957e-01, 8.47569704e-02, 3.77560854e-01],\n",
              "         [6.82134628e-01, 1.49742007e-01, 1.15451336e-01],\n",
              "         ...,\n",
              "         [9.90510702e-01, 6.07237458e-01, 3.50422621e-01],\n",
              "         [2.65180945e-01, 3.75064373e-01, 6.64567232e-01],\n",
              "         [7.86239147e-01, 4.61425066e-01, 7.87955761e-01]]]],\n",
              "      dtype=float32)>"
            ]
          },
          "metadata": {
            "tags": []
          },
          "execution_count": 166
        }
      ]
    },
    {
      "cell_type": "code",
      "metadata": {
        "colab": {
          "base_uri": "https://localhost:8080/"
        },
        "id": "OxmgDwosm-B7",
        "outputId": "d0c75e04-07f9-462e-8122-4d2718d94278"
      },
      "source": [
        "tf.squeeze(random_4_E)"
      ],
      "execution_count": 167,
      "outputs": [
        {
          "output_type": "execute_result",
          "data": {
            "text/plain": [
              "<tf.Tensor: shape=(224, 224, 3), dtype=float32, numpy=\n",
              "array([[[1.90534592e-02, 6.49655104e-01, 6.96206927e-01],\n",
              "        [5.50074816e-01, 5.88577747e-01, 2.47053385e-01],\n",
              "        [3.29534411e-01, 1.12019897e-01, 6.46760821e-01],\n",
              "        ...,\n",
              "        [6.05453014e-01, 2.26416945e-01, 1.02378845e-01],\n",
              "        [3.78343225e-01, 5.46195269e-01, 3.60101581e-01],\n",
              "        [2.96108603e-01, 1.42966509e-02, 3.71624827e-01]],\n",
              "\n",
              "       [[3.70490432e-01, 9.95367646e-01, 3.14680219e-01],\n",
              "        [9.76846576e-01, 1.33267164e-01, 9.98384356e-01],\n",
              "        [7.33183861e-01, 5.36768556e-01, 4.62296009e-02],\n",
              "        ...,\n",
              "        [1.98324561e-01, 6.40800714e-01, 5.96124768e-01],\n",
              "        [1.88073635e-01, 9.70675111e-01, 5.17419577e-01],\n",
              "        [9.79518294e-01, 5.51191568e-02, 9.73463058e-04]],\n",
              "\n",
              "       [[6.49672747e-02, 4.38274741e-01, 5.81417084e-02],\n",
              "        [3.69277596e-01, 9.35164690e-01, 4.71378088e-01],\n",
              "        [2.00963020e-01, 7.59706616e-01, 2.72475958e-01],\n",
              "        ...,\n",
              "        [3.64496350e-01, 8.07347417e-01, 4.90338802e-01],\n",
              "        [9.33710098e-01, 2.10287213e-01, 6.31319761e-01],\n",
              "        [5.42043447e-01, 3.38572502e-01, 7.23318100e-01]],\n",
              "\n",
              "       ...,\n",
              "\n",
              "       [[4.81556773e-01, 5.16923666e-01, 8.64600778e-01],\n",
              "        [9.73374486e-01, 8.96432757e-01, 4.39383268e-01],\n",
              "        [7.78042078e-02, 5.42834997e-01, 7.47769713e-01],\n",
              "        ...,\n",
              "        [8.78274918e-01, 6.46520853e-01, 4.31462526e-02],\n",
              "        [7.38288164e-01, 3.74558806e-01, 5.32416701e-01],\n",
              "        [6.90445900e-02, 4.52709317e-01, 4.55619335e-01]],\n",
              "\n",
              "       [[9.99977589e-02, 1.50644183e-01, 9.67985153e-01],\n",
              "        [2.97249556e-02, 6.09287262e-01, 4.54847932e-01],\n",
              "        [3.26780796e-01, 8.68590832e-01, 4.84599233e-01],\n",
              "        ...,\n",
              "        [3.17003965e-01, 1.58029556e-01, 9.73931313e-01],\n",
              "        [1.18602395e-01, 3.28178406e-01, 6.81946278e-01],\n",
              "        [9.59028006e-02, 4.57908988e-01, 8.30338717e-01]],\n",
              "\n",
              "       [[5.07559061e-01, 8.79403353e-01, 4.00209308e-01],\n",
              "        [8.69946957e-01, 8.47569704e-02, 3.77560854e-01],\n",
              "        [6.82134628e-01, 1.49742007e-01, 1.15451336e-01],\n",
              "        ...,\n",
              "        [9.90510702e-01, 6.07237458e-01, 3.50422621e-01],\n",
              "        [2.65180945e-01, 3.75064373e-01, 6.64567232e-01],\n",
              "        [7.86239147e-01, 4.61425066e-01, 7.87955761e-01]]], dtype=float32)>"
            ]
          },
          "metadata": {
            "tags": []
          },
          "execution_count": 167
        }
      ]
    },
    {
      "cell_type": "markdown",
      "metadata": {
        "id": "Fsj7EfHgnJQC"
      },
      "source": [
        "9. Create a tensor with shape `[10]` using your own choice of values, then find the index which has the maximum value"
      ]
    },
    {
      "cell_type": "code",
      "metadata": {
        "colab": {
          "base_uri": "https://localhost:8080/"
        },
        "id": "AY18vMR1nTsP",
        "outputId": "d2219c52-524f-4bdd-be04-95459ad571ea"
      },
      "source": [
        "tensor_E_1 = tf.constant([1,2,3,4,5,6,7,8,9,10])\n",
        "tensor_E_1.shape"
      ],
      "execution_count": 169,
      "outputs": [
        {
          "output_type": "execute_result",
          "data": {
            "text/plain": [
              "TensorShape([10])"
            ]
          },
          "metadata": {
            "tags": []
          },
          "execution_count": 169
        }
      ]
    },
    {
      "cell_type": "markdown",
      "metadata": {
        "id": "CLlEbVN-ngjS"
      },
      "source": [
        "10. One-hot encode the tensor you created in 9"
      ]
    },
    {
      "cell_type": "code",
      "metadata": {
        "colab": {
          "base_uri": "https://localhost:8080/"
        },
        "id": "ZBzAdCS5nokD",
        "outputId": "60eeca80-bfec-45e8-a031-d5c3b973eda7"
      },
      "source": [
        "tf.one_hot(tensor_E_1,11)"
      ],
      "execution_count": 172,
      "outputs": [
        {
          "output_type": "execute_result",
          "data": {
            "text/plain": [
              "<tf.Tensor: shape=(10, 11), dtype=float32, numpy=\n",
              "array([[0., 1., 0., 0., 0., 0., 0., 0., 0., 0., 0.],\n",
              "       [0., 0., 1., 0., 0., 0., 0., 0., 0., 0., 0.],\n",
              "       [0., 0., 0., 1., 0., 0., 0., 0., 0., 0., 0.],\n",
              "       [0., 0., 0., 0., 1., 0., 0., 0., 0., 0., 0.],\n",
              "       [0., 0., 0., 0., 0., 1., 0., 0., 0., 0., 0.],\n",
              "       [0., 0., 0., 0., 0., 0., 1., 0., 0., 0., 0.],\n",
              "       [0., 0., 0., 0., 0., 0., 0., 1., 0., 0., 0.],\n",
              "       [0., 0., 0., 0., 0., 0., 0., 0., 1., 0., 0.],\n",
              "       [0., 0., 0., 0., 0., 0., 0., 0., 0., 1., 0.],\n",
              "       [0., 0., 0., 0., 0., 0., 0., 0., 0., 0., 1.]], dtype=float32)>"
            ]
          },
          "metadata": {
            "tags": []
          },
          "execution_count": 172
        }
      ]
    }
  ]
}